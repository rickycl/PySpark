{
  "cells": [
    {
      "cell_type": "code",
      "execution_count": 1,
      "metadata": {
        "colab": {
          "base_uri": "https://localhost:8080/"
        },
        "id": "4K7rOldtgB_C",
        "outputId": "89934bbb-81b7-44be-c340-44e906f202f5"
      },
      "outputs": [
        {
          "name": "stdout",
          "output_type": "stream",
          "text": [
            "Collecting pyspark\n",
            "  Downloading pyspark-3.5.0.tar.gz (316.9 MB)\n",
            "\u001b[2K     \u001b[90m━━━━━━━━━━━━━━━━━━━━━━━━━━━━━━━━━━━━━━━━\u001b[0m \u001b[32m316.9/316.9 MB\u001b[0m \u001b[31m4.5 MB/s\u001b[0m eta \u001b[36m0:00:00\u001b[0m\n",
            "\u001b[?25h  Preparing metadata (setup.py) ... \u001b[?25l\u001b[?25hdone\n",
            "Requirement already satisfied: py4j==0.10.9.7 in /usr/local/lib/python3.10/dist-packages (from pyspark) (0.10.9.7)\n",
            "Building wheels for collected packages: pyspark\n",
            "  Building wheel for pyspark (setup.py) ... \u001b[?25l\u001b[?25hdone\n",
            "  Created wheel for pyspark: filename=pyspark-3.5.0-py2.py3-none-any.whl size=317425345 sha256=d9bfcda58da768d7712c25f5a5b86a131452de1a1c086db9b51f38351d675254\n",
            "  Stored in directory: /root/.cache/pip/wheels/41/4e/10/c2cf2467f71c678cfc8a6b9ac9241e5e44a01940da8fbb17fc\n",
            "Successfully built pyspark\n",
            "Installing collected packages: pyspark\n",
            "Successfully installed pyspark-3.5.0\n"
          ]
        }
      ],
      "source": [
        "# Create the Spark Session Object\n",
        "!pip install pyspark\n",
        "from pyspark.sql import SparkSession\n",
        "spark=SparkSession.builder.appName('EDA').getOrCreate()"
      ]
    },
    {
      "cell_type": "markdown",
      "metadata": {
        "id": "5GPwGEzdidgu"
      },
      "source": [
        "Dataset: https://archive.ics.uci.edu/ml/datasets/Bank+Marketing\n",
        "Aim: To select the best features in dataset using the different variable selection techniques and to avoid multicollinearity.\n",
        "\n",
        "In built (Without Target -> PCA, SVD/ With Target -> Chi Square, Random Forest)\n",
        "\n",
        "Custom built (Custom Transformers, Voting Based selection)\n",
        "\n",
        "EDA is a process used to analyze data to identify the characteristics and patterns existing in that data using summarization or visualization.\n",
        "\n",
        "Data could be missing due to:\n",
        "1. MAR: there is a relationship between the missing data and the observed data\n",
        "2. MCAR: there is no relationship between ... Imputing is a way of filling in missing values in data science\n",
        "3. MNAR: the data is not collected\n"
      ]
    },
    {
      "cell_type": "markdown",
      "metadata": {
        "id": "_faofpq-968x"
      },
      "source": [
        "   # Input variables:\n",
        "   #### Bank client data:\n",
        "   1 - age (numeric)\n",
        "   2 - job : type of job (categorical)\n",
        "   3 - marital : marital status (categorical)\n",
        "   4 - education (categorical)\n",
        "   5 - default: has credit in default? (binary: \"yes\",\"no\")\n",
        "   6 - balance: average yearly balance, in euros (numeric)\n",
        "   7 - housing: has housing loan? (binary: \"yes\",\"no\")\n",
        "   8 - loan: has personal loan? (binary: \"yes\",\"no\")\n",
        "   #### Related with the last contact of the current campaign:\n",
        "   9 - contact: contact communication type (categorical)\n",
        "  10 - day: last contact day of the month (numeric)\n",
        "  11 - month: last contact month of year (categorical)\n",
        "  12 - duration: last contact duration, in seconds (numeric)\n",
        "   #### Other attributes:\n",
        "  13 - campaign: number of contacts performed during this campaign and for this client (numeric, includes last contact)\n",
        "  \n",
        "  14 - pdays: number of days that passed by after the client was last contacted from a previous campaign (numeric, -1 means client was not previously contacted)\n",
        "  \n",
        "  15 - previous: number of contacts performed before this campaign and for this client (numeric)\n",
        "  \n",
        "  16 - poutcome: outcome of the previous marketing campaign (categorical: \"unknown\",\"other\",\"failure\",\"success\")\n",
        "\n",
        "  Output variable (desired target):\n",
        "  17 - y - has the client subscribed a term deposit? (binary: \"yes\",\"no\")"
      ]
    },
    {
      "cell_type": "markdown",
      "metadata": {
        "id": "x9oOktrMllxj"
      },
      "source": [
        "# Exploratory Data Analysis\n",
        "To identify the characteristics and patterns using summarization or visualization."
      ]
    },
    {
      "cell_type": "code",
      "execution_count": 2,
      "metadata": {
        "id": "CExkMxzoggJl"
      },
      "outputs": [],
      "source": [
        "filename = \"bank-full.csv\"\n",
        "target_variable_name = \"y\" #This variable can be set later too"
      ]
    },
    {
      "cell_type": "code",
      "execution_count": 3,
      "metadata": {
        "id": "cH1uQ_jhggMi"
      },
      "outputs": [],
      "source": [
        "df=spark.read.csv('sample_data/bank-full.csv', header=True, inferSchema=True, sep=';')"
      ]
    },
    {
      "cell_type": "code",
      "execution_count": 4,
      "metadata": {
        "colab": {
          "base_uri": "https://localhost:8080/"
        },
        "id": "791e32NFggPa",
        "outputId": "c46eacbf-ea9e-4118-ca57-0df3d702c379"
      },
      "outputs": [
        {
          "name": "stdout",
          "output_type": "stream",
          "text": [
            "+---+------------+--------+---------+-------+-------+-------+----+-------+---+-----+--------+--------+-----+--------+--------+---+\n",
            "|age|         job| marital|education|default|balance|housing|loan|contact|day|month|duration|campaign|pdays|previous|poutcome|  y|\n",
            "+---+------------+--------+---------+-------+-------+-------+----+-------+---+-----+--------+--------+-----+--------+--------+---+\n",
            "| 58|  management| married| tertiary|     no|   2143|    yes|  no|unknown|  5|  may|     261|       1|   -1|       0| unknown| no|\n",
            "| 44|  technician|  single|secondary|     no|     29|    yes|  no|unknown|  5|  may|     151|       1|   -1|       0| unknown| no|\n",
            "| 33|entrepreneur| married|secondary|     no|      2|    yes| yes|unknown|  5|  may|      76|       1|   -1|       0| unknown| no|\n",
            "| 47| blue-collar| married|  unknown|     no|   1506|    yes|  no|unknown|  5|  may|      92|       1|   -1|       0| unknown| no|\n",
            "| 33|     unknown|  single|  unknown|     no|      1|     no|  no|unknown|  5|  may|     198|       1|   -1|       0| unknown| no|\n",
            "| 35|  management| married| tertiary|     no|    231|    yes|  no|unknown|  5|  may|     139|       1|   -1|       0| unknown| no|\n",
            "| 28|  management|  single| tertiary|     no|    447|    yes| yes|unknown|  5|  may|     217|       1|   -1|       0| unknown| no|\n",
            "| 42|entrepreneur|divorced| tertiary|    yes|      2|    yes|  no|unknown|  5|  may|     380|       1|   -1|       0| unknown| no|\n",
            "| 58|     retired| married|  primary|     no|    121|    yes|  no|unknown|  5|  may|      50|       1|   -1|       0| unknown| no|\n",
            "| 43|  technician|  single|secondary|     no|    593|    yes|  no|unknown|  5|  may|      55|       1|   -1|       0| unknown| no|\n",
            "+---+------------+--------+---------+-------+-------+-------+----+-------+---+-----+--------+--------+-----+--------+--------+---+\n",
            "only showing top 10 rows\n",
            "\n"
          ]
        }
      ],
      "source": [
        "df.show(10)"
      ]
    },
    {
      "cell_type": "code",
      "execution_count": 5,
      "metadata": {
        "colab": {
          "base_uri": "https://localhost:8080/"
        },
        "id": "UXGR-QOyggSO",
        "outputId": "ad1f2e83-844a-4456-a703-d770c29e0796"
      },
      "outputs": [
        {
          "name": "stdout",
          "output_type": "stream",
          "text": [
            "(45211, 17)\n"
          ]
        }
      ],
      "source": [
        "print((df.count(), len(df.columns)))"
      ]
    },
    {
      "cell_type": "code",
      "execution_count": 6,
      "metadata": {
        "colab": {
          "base_uri": "https://localhost:8080/",
          "height": 226
        },
        "id": "aDDULPlNnSl2",
        "outputId": "598a7341-6da9-4114-b08b-de8acdc93e33"
      },
      "outputs": [
        {
          "data": {
            "text/html": [
              "\n",
              "  <div id=\"df-3c069fa1-78ce-4285-93b8-3a7ae96fed7f\" class=\"colab-df-container\">\n",
              "    <div>\n",
              "<style scoped>\n",
              "    .dataframe tbody tr th:only-of-type {\n",
              "        vertical-align: middle;\n",
              "    }\n",
              "\n",
              "    .dataframe tbody tr th {\n",
              "        vertical-align: top;\n",
              "    }\n",
              "\n",
              "    .dataframe thead th {\n",
              "        text-align: right;\n",
              "    }\n",
              "</style>\n",
              "<table border=\"1\" class=\"dataframe\">\n",
              "  <thead>\n",
              "    <tr style=\"text-align: right;\">\n",
              "      <th></th>\n",
              "      <th>summary</th>\n",
              "      <th>age</th>\n",
              "      <th>job</th>\n",
              "      <th>marital</th>\n",
              "      <th>education</th>\n",
              "      <th>default</th>\n",
              "      <th>balance</th>\n",
              "      <th>housing</th>\n",
              "      <th>loan</th>\n",
              "      <th>contact</th>\n",
              "      <th>day</th>\n",
              "      <th>month</th>\n",
              "      <th>duration</th>\n",
              "      <th>campaign</th>\n",
              "      <th>pdays</th>\n",
              "      <th>previous</th>\n",
              "      <th>poutcome</th>\n",
              "      <th>y</th>\n",
              "    </tr>\n",
              "  </thead>\n",
              "  <tbody>\n",
              "    <tr>\n",
              "      <th>0</th>\n",
              "      <td>count</td>\n",
              "      <td>45211</td>\n",
              "      <td>45211</td>\n",
              "      <td>45211</td>\n",
              "      <td>45211</td>\n",
              "      <td>45211</td>\n",
              "      <td>45211</td>\n",
              "      <td>45211</td>\n",
              "      <td>45211</td>\n",
              "      <td>45211</td>\n",
              "      <td>45211</td>\n",
              "      <td>45211</td>\n",
              "      <td>45211</td>\n",
              "      <td>45211</td>\n",
              "      <td>45211</td>\n",
              "      <td>45211</td>\n",
              "      <td>45211</td>\n",
              "      <td>45211</td>\n",
              "    </tr>\n",
              "    <tr>\n",
              "      <th>1</th>\n",
              "      <td>mean</td>\n",
              "      <td>40.93621021432837</td>\n",
              "      <td>None</td>\n",
              "      <td>None</td>\n",
              "      <td>None</td>\n",
              "      <td>None</td>\n",
              "      <td>1362.2720576850766</td>\n",
              "      <td>None</td>\n",
              "      <td>None</td>\n",
              "      <td>None</td>\n",
              "      <td>15.80641879188693</td>\n",
              "      <td>None</td>\n",
              "      <td>258.1630797814691</td>\n",
              "      <td>2.763840658246887</td>\n",
              "      <td>40.19782796222158</td>\n",
              "      <td>0.5803233726305546</td>\n",
              "      <td>None</td>\n",
              "      <td>None</td>\n",
              "    </tr>\n",
              "    <tr>\n",
              "      <th>2</th>\n",
              "      <td>stddev</td>\n",
              "      <td>10.618762040975408</td>\n",
              "      <td>None</td>\n",
              "      <td>None</td>\n",
              "      <td>None</td>\n",
              "      <td>None</td>\n",
              "      <td>3044.7658291685243</td>\n",
              "      <td>None</td>\n",
              "      <td>None</td>\n",
              "      <td>None</td>\n",
              "      <td>8.322476153044596</td>\n",
              "      <td>None</td>\n",
              "      <td>257.52781226517095</td>\n",
              "      <td>3.098020883279184</td>\n",
              "      <td>100.12874599059813</td>\n",
              "      <td>2.3034410449312204</td>\n",
              "      <td>None</td>\n",
              "      <td>None</td>\n",
              "    </tr>\n",
              "    <tr>\n",
              "      <th>3</th>\n",
              "      <td>min</td>\n",
              "      <td>18</td>\n",
              "      <td>admin.</td>\n",
              "      <td>divorced</td>\n",
              "      <td>primary</td>\n",
              "      <td>no</td>\n",
              "      <td>-8019</td>\n",
              "      <td>no</td>\n",
              "      <td>no</td>\n",
              "      <td>cellular</td>\n",
              "      <td>1</td>\n",
              "      <td>apr</td>\n",
              "      <td>0</td>\n",
              "      <td>1</td>\n",
              "      <td>-1</td>\n",
              "      <td>0</td>\n",
              "      <td>failure</td>\n",
              "      <td>no</td>\n",
              "    </tr>\n",
              "    <tr>\n",
              "      <th>4</th>\n",
              "      <td>max</td>\n",
              "      <td>95</td>\n",
              "      <td>unknown</td>\n",
              "      <td>single</td>\n",
              "      <td>unknown</td>\n",
              "      <td>yes</td>\n",
              "      <td>102127</td>\n",
              "      <td>yes</td>\n",
              "      <td>yes</td>\n",
              "      <td>unknown</td>\n",
              "      <td>31</td>\n",
              "      <td>sep</td>\n",
              "      <td>4918</td>\n",
              "      <td>63</td>\n",
              "      <td>871</td>\n",
              "      <td>275</td>\n",
              "      <td>unknown</td>\n",
              "      <td>yes</td>\n",
              "    </tr>\n",
              "  </tbody>\n",
              "</table>\n",
              "</div>\n",
              "    <div class=\"colab-df-buttons\">\n",
              "\n",
              "  <div class=\"colab-df-container\">\n",
              "    <button class=\"colab-df-convert\" onclick=\"convertToInteractive('df-3c069fa1-78ce-4285-93b8-3a7ae96fed7f')\"\n",
              "            title=\"Convert this dataframe to an interactive table.\"\n",
              "            style=\"display:none;\">\n",
              "\n",
              "  <svg xmlns=\"http://www.w3.org/2000/svg\" height=\"24px\" viewBox=\"0 -960 960 960\">\n",
              "    <path d=\"M120-120v-720h720v720H120Zm60-500h600v-160H180v160Zm220 220h160v-160H400v160Zm0 220h160v-160H400v160ZM180-400h160v-160H180v160Zm440 0h160v-160H620v160ZM180-180h160v-160H180v160Zm440 0h160v-160H620v160Z\"/>\n",
              "  </svg>\n",
              "    </button>\n",
              "\n",
              "  <style>\n",
              "    .colab-df-container {\n",
              "      display:flex;\n",
              "      gap: 12px;\n",
              "    }\n",
              "\n",
              "    .colab-df-convert {\n",
              "      background-color: #E8F0FE;\n",
              "      border: none;\n",
              "      border-radius: 50%;\n",
              "      cursor: pointer;\n",
              "      display: none;\n",
              "      fill: #1967D2;\n",
              "      height: 32px;\n",
              "      padding: 0 0 0 0;\n",
              "      width: 32px;\n",
              "    }\n",
              "\n",
              "    .colab-df-convert:hover {\n",
              "      background-color: #E2EBFA;\n",
              "      box-shadow: 0px 1px 2px rgba(60, 64, 67, 0.3), 0px 1px 3px 1px rgba(60, 64, 67, 0.15);\n",
              "      fill: #174EA6;\n",
              "    }\n",
              "\n",
              "    .colab-df-buttons div {\n",
              "      margin-bottom: 4px;\n",
              "    }\n",
              "\n",
              "    [theme=dark] .colab-df-convert {\n",
              "      background-color: #3B4455;\n",
              "      fill: #D2E3FC;\n",
              "    }\n",
              "\n",
              "    [theme=dark] .colab-df-convert:hover {\n",
              "      background-color: #434B5C;\n",
              "      box-shadow: 0px 1px 3px 1px rgba(0, 0, 0, 0.15);\n",
              "      filter: drop-shadow(0px 1px 2px rgba(0, 0, 0, 0.3));\n",
              "      fill: #FFFFFF;\n",
              "    }\n",
              "  </style>\n",
              "\n",
              "    <script>\n",
              "      const buttonEl =\n",
              "        document.querySelector('#df-3c069fa1-78ce-4285-93b8-3a7ae96fed7f button.colab-df-convert');\n",
              "      buttonEl.style.display =\n",
              "        google.colab.kernel.accessAllowed ? 'block' : 'none';\n",
              "\n",
              "      async function convertToInteractive(key) {\n",
              "        const element = document.querySelector('#df-3c069fa1-78ce-4285-93b8-3a7ae96fed7f');\n",
              "        const dataTable =\n",
              "          await google.colab.kernel.invokeFunction('convertToInteractive',\n",
              "                                                    [key], {});\n",
              "        if (!dataTable) return;\n",
              "\n",
              "        const docLinkHtml = 'Like what you see? Visit the ' +\n",
              "          '<a target=\"_blank\" href=https://colab.research.google.com/notebooks/data_table.ipynb>data table notebook</a>'\n",
              "          + ' to learn more about interactive tables.';\n",
              "        element.innerHTML = '';\n",
              "        dataTable['output_type'] = 'display_data';\n",
              "        await google.colab.output.renderOutput(dataTable, element);\n",
              "        const docLink = document.createElement('div');\n",
              "        docLink.innerHTML = docLinkHtml;\n",
              "        element.appendChild(docLink);\n",
              "      }\n",
              "    </script>\n",
              "  </div>\n",
              "\n",
              "\n",
              "<div id=\"df-c10bef4e-225d-459a-a69d-bbe2bac6f61e\">\n",
              "  <button class=\"colab-df-quickchart\" onclick=\"quickchart('df-c10bef4e-225d-459a-a69d-bbe2bac6f61e')\"\n",
              "            title=\"Suggest charts\"\n",
              "            style=\"display:none;\">\n",
              "\n",
              "<svg xmlns=\"http://www.w3.org/2000/svg\" height=\"24px\"viewBox=\"0 0 24 24\"\n",
              "     width=\"24px\">\n",
              "    <g>\n",
              "        <path d=\"M19 3H5c-1.1 0-2 .9-2 2v14c0 1.1.9 2 2 2h14c1.1 0 2-.9 2-2V5c0-1.1-.9-2-2-2zM9 17H7v-7h2v7zm4 0h-2V7h2v10zm4 0h-2v-4h2v4z\"/>\n",
              "    </g>\n",
              "</svg>\n",
              "  </button>\n",
              "\n",
              "<style>\n",
              "  .colab-df-quickchart {\n",
              "      --bg-color: #E8F0FE;\n",
              "      --fill-color: #1967D2;\n",
              "      --hover-bg-color: #E2EBFA;\n",
              "      --hover-fill-color: #174EA6;\n",
              "      --disabled-fill-color: #AAA;\n",
              "      --disabled-bg-color: #DDD;\n",
              "  }\n",
              "\n",
              "  [theme=dark] .colab-df-quickchart {\n",
              "      --bg-color: #3B4455;\n",
              "      --fill-color: #D2E3FC;\n",
              "      --hover-bg-color: #434B5C;\n",
              "      --hover-fill-color: #FFFFFF;\n",
              "      --disabled-bg-color: #3B4455;\n",
              "      --disabled-fill-color: #666;\n",
              "  }\n",
              "\n",
              "  .colab-df-quickchart {\n",
              "    background-color: var(--bg-color);\n",
              "    border: none;\n",
              "    border-radius: 50%;\n",
              "    cursor: pointer;\n",
              "    display: none;\n",
              "    fill: var(--fill-color);\n",
              "    height: 32px;\n",
              "    padding: 0;\n",
              "    width: 32px;\n",
              "  }\n",
              "\n",
              "  .colab-df-quickchart:hover {\n",
              "    background-color: var(--hover-bg-color);\n",
              "    box-shadow: 0 1px 2px rgba(60, 64, 67, 0.3), 0 1px 3px 1px rgba(60, 64, 67, 0.15);\n",
              "    fill: var(--button-hover-fill-color);\n",
              "  }\n",
              "\n",
              "  .colab-df-quickchart-complete:disabled,\n",
              "  .colab-df-quickchart-complete:disabled:hover {\n",
              "    background-color: var(--disabled-bg-color);\n",
              "    fill: var(--disabled-fill-color);\n",
              "    box-shadow: none;\n",
              "  }\n",
              "\n",
              "  .colab-df-spinner {\n",
              "    border: 2px solid var(--fill-color);\n",
              "    border-color: transparent;\n",
              "    border-bottom-color: var(--fill-color);\n",
              "    animation:\n",
              "      spin 1s steps(1) infinite;\n",
              "  }\n",
              "\n",
              "  @keyframes spin {\n",
              "    0% {\n",
              "      border-color: transparent;\n",
              "      border-bottom-color: var(--fill-color);\n",
              "      border-left-color: var(--fill-color);\n",
              "    }\n",
              "    20% {\n",
              "      border-color: transparent;\n",
              "      border-left-color: var(--fill-color);\n",
              "      border-top-color: var(--fill-color);\n",
              "    }\n",
              "    30% {\n",
              "      border-color: transparent;\n",
              "      border-left-color: var(--fill-color);\n",
              "      border-top-color: var(--fill-color);\n",
              "      border-right-color: var(--fill-color);\n",
              "    }\n",
              "    40% {\n",
              "      border-color: transparent;\n",
              "      border-right-color: var(--fill-color);\n",
              "      border-top-color: var(--fill-color);\n",
              "    }\n",
              "    60% {\n",
              "      border-color: transparent;\n",
              "      border-right-color: var(--fill-color);\n",
              "    }\n",
              "    80% {\n",
              "      border-color: transparent;\n",
              "      border-right-color: var(--fill-color);\n",
              "      border-bottom-color: var(--fill-color);\n",
              "    }\n",
              "    90% {\n",
              "      border-color: transparent;\n",
              "      border-bottom-color: var(--fill-color);\n",
              "    }\n",
              "  }\n",
              "</style>\n",
              "\n",
              "  <script>\n",
              "    async function quickchart(key) {\n",
              "      const quickchartButtonEl =\n",
              "        document.querySelector('#' + key + ' button');\n",
              "      quickchartButtonEl.disabled = true;  // To prevent multiple clicks.\n",
              "      quickchartButtonEl.classList.add('colab-df-spinner');\n",
              "      try {\n",
              "        const charts = await google.colab.kernel.invokeFunction(\n",
              "            'suggestCharts', [key], {});\n",
              "      } catch (error) {\n",
              "        console.error('Error during call to suggestCharts:', error);\n",
              "      }\n",
              "      quickchartButtonEl.classList.remove('colab-df-spinner');\n",
              "      quickchartButtonEl.classList.add('colab-df-quickchart-complete');\n",
              "    }\n",
              "    (() => {\n",
              "      let quickchartButtonEl =\n",
              "        document.querySelector('#df-c10bef4e-225d-459a-a69d-bbe2bac6f61e button');\n",
              "      quickchartButtonEl.style.display =\n",
              "        google.colab.kernel.accessAllowed ? 'block' : 'none';\n",
              "    })();\n",
              "  </script>\n",
              "</div>\n",
              "    </div>\n",
              "  </div>\n"
            ],
            "text/plain": [
              "  summary                 age      job   marital education default  \\\n",
              "0   count               45211    45211     45211     45211   45211   \n",
              "1    mean   40.93621021432837     None      None      None    None   \n",
              "2  stddev  10.618762040975408     None      None      None    None   \n",
              "3     min                  18   admin.  divorced   primary      no   \n",
              "4     max                  95  unknown    single   unknown     yes   \n",
              "\n",
              "              balance housing   loan   contact                day  month  \\\n",
              "0               45211   45211  45211     45211              45211  45211   \n",
              "1  1362.2720576850766    None   None      None  15.80641879188693   None   \n",
              "2  3044.7658291685243    None   None      None  8.322476153044596   None   \n",
              "3               -8019      no     no  cellular                  1    apr   \n",
              "4              102127     yes    yes   unknown                 31    sep   \n",
              "\n",
              "             duration           campaign               pdays  \\\n",
              "0               45211              45211               45211   \n",
              "1   258.1630797814691  2.763840658246887   40.19782796222158   \n",
              "2  257.52781226517095  3.098020883279184  100.12874599059813   \n",
              "3                   0                  1                  -1   \n",
              "4                4918                 63                 871   \n",
              "\n",
              "             previous poutcome      y  \n",
              "0               45211    45211  45211  \n",
              "1  0.5803233726305546     None   None  \n",
              "2  2.3034410449312204     None   None  \n",
              "3                   0  failure     no  \n",
              "4                 275  unknown    yes  "
            ]
          },
          "execution_count": 6,
          "metadata": {},
          "output_type": "execute_result"
        }
      ],
      "source": [
        "#describes data\n",
        "df.describe().toPandas() #missing and cardinality followup"
      ]
    },
    {
      "cell_type": "code",
      "execution_count": 7,
      "metadata": {
        "colab": {
          "base_uri": "https://localhost:8080/"
        },
        "id": "CK1JZvo4nVNQ",
        "outputId": "12397a21-ad82-406e-cd30-dcb018b1d3c6"
      },
      "outputs": [
        {
          "name": "stdout",
          "output_type": "stream",
          "text": [
            "root\n",
            " |-- age: integer (nullable = true)\n",
            " |-- job: string (nullable = true)\n",
            " |-- marital: string (nullable = true)\n",
            " |-- education: string (nullable = true)\n",
            " |-- default: string (nullable = true)\n",
            " |-- balance: integer (nullable = true)\n",
            " |-- housing: string (nullable = true)\n",
            " |-- loan: string (nullable = true)\n",
            " |-- contact: string (nullable = true)\n",
            " |-- day: integer (nullable = true)\n",
            " |-- month: string (nullable = true)\n",
            " |-- duration: integer (nullable = true)\n",
            " |-- campaign: integer (nullable = true)\n",
            " |-- pdays: integer (nullable = true)\n",
            " |-- previous: integer (nullable = true)\n",
            " |-- poutcome: string (nullable = true)\n",
            " |-- y: string (nullable = true)\n",
            "\n"
          ]
        }
      ],
      "source": [
        "#type of each variable\n",
        "df.dtypes\n",
        "df.printSchema()"
      ]
    },
    {
      "cell_type": "code",
      "execution_count": 8,
      "metadata": {
        "colab": {
          "base_uri": "https://localhost:8080/"
        },
        "id": "Eg9CXazUnVQW",
        "outputId": "47564e70-6d07-45a0-e77b-64323ee8bdd6"
      },
      "outputs": [
        {
          "name": "stdout",
          "output_type": "stream",
          "text": [
            "+---------+-----+\n",
            "|education|count|\n",
            "+---------+-----+\n",
            "|  unknown| 1857|\n",
            "| tertiary|13301|\n",
            "|secondary|23202|\n",
            "|  primary| 6851|\n",
            "+---------+-----+\n",
            "\n"
          ]
        }
      ],
      "source": [
        "#single variable count by group\n",
        "df.groupBy('education').count().show()"
      ]
    },
    {
      "cell_type": "code",
      "execution_count": 9,
      "metadata": {
        "colab": {
          "base_uri": "https://localhost:8080/"
        },
        "id": "aJruKFvCnVTS",
        "outputId": "10789592-e2b3-4721-ad46-8fa1f71b759d"
      },
      "outputs": [
        {
          "name": "stdout",
          "output_type": "stream",
          "text": [
            "+---+-----+\n",
            "|  y|count|\n",
            "+---+-----+\n",
            "| no|39922|\n",
            "|yes| 5289|\n",
            "+---+-----+\n",
            "\n"
          ]
        }
      ],
      "source": [
        "#target count\n",
        "df.groupBy(target_variable_name).count().show()"
      ]
    },
    {
      "cell_type": "code",
      "execution_count": 10,
      "metadata": {
        "colab": {
          "base_uri": "https://localhost:8080/"
        },
        "id": "6k5XGJpZneuV",
        "outputId": "dc43c6de-f3ba-4946-dbb4-16bfbd0a7676"
      },
      "outputs": [
        {
          "name": "stdout",
          "output_type": "stream",
          "text": [
            "+---------+---+-----+\n",
            "|education|  y|count|\n",
            "+---------+---+-----+\n",
            "|  unknown| no| 1605|\n",
            "| tertiary| no|11305|\n",
            "|secondary| no|20752|\n",
            "|  unknown|yes|  252|\n",
            "|  primary| no| 6260|\n",
            "|  primary|yes|  591|\n",
            "|secondary|yes| 2450|\n",
            "| tertiary|yes| 1996|\n",
            "+---------+---+-----+\n",
            "\n"
          ]
        }
      ],
      "source": [
        "#multiple column group by\n",
        "df.groupBy(['education',target_variable_name]).count().show()"
      ]
    },
    {
      "cell_type": "code",
      "execution_count": 11,
      "metadata": {
        "colab": {
          "base_uri": "https://localhost:8080/"
        },
        "id": "yHNgq15gnew8",
        "outputId": "9984d0f9-7d63-42d7-8f05-18918d9fa7ca"
      },
      "outputs": [
        {
          "name": "stdout",
          "output_type": "stream",
          "text": [
            "+---+------------------+------------------+\n",
            "|  y|      avg(balance)|          avg(age)|\n",
            "+---+------------------+------------------+\n",
            "| no|1303.7149691899203| 40.83898602274435|\n",
            "|yes|1804.2679145396105|41.670069956513515|\n",
            "+---+------------------+------------------+\n",
            "\n"
          ]
        }
      ],
      "source": [
        "#column aggregations\n",
        "from pyspark.sql.functions import *\n",
        "df.groupBy(target_variable_name).agg({'balance':'avg', 'age': 'avg'}).show()"
      ]
    },
    {
      "cell_type": "code",
      "execution_count": 12,
      "metadata": {
        "id": "KRGFXQE-o_TV"
      },
      "outputs": [],
      "source": [
        "# Cardinality Check\n",
        "from pyspark.sql.functions import approxCountDistinct, countDistinct\n",
        "\"\"\"\n",
        "Note: approxCountDistinct and countDistinct can be used interchangeably. Only difference is the computation time.\n",
        "\"approxCountDistinct\" is useful for large datasets\n",
        "\"countDistinct\" for small and medium datasets.\n",
        "\"\"\"\n",
        "\n",
        "def cardinality_calculation(df, cut_off=1):\n",
        "    cardinality = df.select(*[approx_count_distinct(c).alias(c) for c in df.columns])\n",
        "\n",
        "    ## convert to pandas for efficient calculations\n",
        "    final_cardinality_df = cardinality.toPandas().transpose()\n",
        "    final_cardinality_df.reset_index(inplace=True)\n",
        "    final_cardinality_df.rename(columns={0:'Cardinality'}, inplace=True)\n",
        "\n",
        "    #select variables with cardinality of 1\n",
        "    vars_selected = final_cardinality_df['index']\n",
        "    [final_cardinality_df['Cardinality'] <= cut_off]\n",
        "\n",
        "    return final_cardinality_df, vars_selected\n",
        "\n",
        "cardinality_df, cardinality_vars_selected = cardinality_calculation(df)"
      ]
    },
    {
      "cell_type": "code",
      "execution_count": 13,
      "metadata": {
        "colab": {
          "base_uri": "https://localhost:8080/"
        },
        "id": "lkJUYC-WsDLX",
        "outputId": "fa00e05c-6d64-4de8-bd35-df4de239e9b0"
      },
      "outputs": [
        {
          "data": {
            "text/plain": [
              "(        index  Cardinality\n",
              " 0         age           76\n",
              " 1         job           11\n",
              " 2     marital            3\n",
              " 3   education            4\n",
              " 4     default            2\n",
              " 5     balance         7375\n",
              " 6     housing            2\n",
              " 7        loan            2\n",
              " 8     contact            3\n",
              " 9         day           32\n",
              " 10      month           12\n",
              " 11   duration         1605\n",
              " 12   campaign           47\n",
              " 13      pdays          547\n",
              " 14   previous           42\n",
              " 15   poutcome            4\n",
              " 16          y            2,\n",
              " 0           age\n",
              " 1           job\n",
              " 2       marital\n",
              " 3     education\n",
              " 4       default\n",
              " 5       balance\n",
              " 6       housing\n",
              " 7          loan\n",
              " 8       contact\n",
              " 9           day\n",
              " 10        month\n",
              " 11     duration\n",
              " 12     campaign\n",
              " 13        pdays\n",
              " 14     previous\n",
              " 15     poutcome\n",
              " 16            y\n",
              " Name: index, dtype: object)"
            ]
          },
          "execution_count": 13,
          "metadata": {},
          "output_type": "execute_result"
        }
      ],
      "source": [
        "# Cardinality is the number of unique values of a variable.\n",
        "cardinality_calculation(df)"
      ]
    },
    {
      "cell_type": "code",
      "execution_count": 14,
      "metadata": {
        "id": "Wd_mmi6io_We"
      },
      "outputs": [],
      "source": [
        "#missing values check\n",
        "from pyspark.sql.functions import count, when, isnan, col\n",
        "\n",
        "# miss_percentage is set to 80% as discussed in the book\n",
        "def missing_calculation(df, miss_percentage=0.80):\n",
        "    #checks for both NaN and null values\n",
        "    missing = df.select(*[count(when(isnan(c) | col(c).isNull(), c)).alias(c) for c in df.columns])\n",
        "    length_df = df.count()\n",
        "    ## convert to pandas for efficient calculations\n",
        "    final_missing_df = missing.toPandas().transpose()\n",
        "    final_missing_df.reset_index(inplace=True)\n",
        "    final_missing_df.rename(columns={0:'missing_count'}, inplace=True)\n",
        "    final_missing_df['missing_percentage'] = final_missing_df['missing_count']/length_df\n",
        "\n",
        "    #select variables with cardinality of 1\n",
        "    vars_selected = final_missing_df['index'][final_missing_df['missing_percentage'] >= miss_percentage]\n",
        "\n",
        "    return final_missing_df, vars_selected\n",
        "\n",
        "missing_df, missing_vars_selected = missing_calculation(df)"
      ]
    },
    {
      "cell_type": "code",
      "execution_count": 15,
      "metadata": {
        "colab": {
          "base_uri": "https://localhost:8080/"
        },
        "id": "POIIxkxHo_Y0",
        "outputId": "2208dbce-2311-4c9f-ac43-113f6efc2658"
      },
      "outputs": [
        {
          "data": {
            "text/plain": [
              "(        index  missing_count  missing_percentage\n",
              " 0         age              0                 0.0\n",
              " 1         job              0                 0.0\n",
              " 2     marital              0                 0.0\n",
              " 3   education              0                 0.0\n",
              " 4     default              0                 0.0\n",
              " 5     balance              0                 0.0\n",
              " 6     housing              0                 0.0\n",
              " 7        loan              0                 0.0\n",
              " 8     contact              0                 0.0\n",
              " 9         day              0                 0.0\n",
              " 10      month              0                 0.0\n",
              " 11   duration              0                 0.0\n",
              " 12   campaign              0                 0.0\n",
              " 13      pdays              0                 0.0\n",
              " 14   previous              0                 0.0\n",
              " 15   poutcome              0                 0.0\n",
              " 16          y              0                 0.0,\n",
              " Series([], Name: index, dtype: object))"
            ]
          },
          "execution_count": 15,
          "metadata": {},
          "output_type": "execute_result"
        }
      ],
      "source": [
        "missing_calculation(df)\n",
        "# No columns are rejected based on these 2 checks"
      ]
    },
    {
      "cell_type": "markdown",
      "metadata": {
        "id": "h1ZKpw-Yq9NB"
      },
      "source": [
        "Selection techniques: 1. Cardinality 2. Missing value 3. Convert all the columns to numbers (OneHotEncoder, StringIndexer from pyspark.ml.feature, Weighted index)"
      ]
    },
    {
      "cell_type": "code",
      "execution_count": 16,
      "metadata": {
        "id": "ldBPqqhXvdQ5"
      },
      "outputs": [],
      "source": [
        "# Step 1: Identify variable types\n",
        "def variable_type(df):\n",
        "    # use the dtypes to separate character and numeric variables\n",
        "    vars_list = df.dtypes\n",
        "    char_vars = [] #character variables list\n",
        "    num_vars = [] #numeric variable list\n",
        "    for i in vars_list:\n",
        "        if i[1] in ('string'):\n",
        "            char_vars.append(i[0])\n",
        "        else:\n",
        "            num_vars.append(i[0])\n",
        "\n",
        "    return char_vars, num_vars\n",
        "\n",
        "#apply variable_type function on our DataFrame\n",
        "char_vars, num_vars = variable_type(df)"
      ]
    },
    {
      "cell_type": "code",
      "execution_count": 17,
      "metadata": {
        "colab": {
          "base_uri": "https://localhost:8080/"
        },
        "id": "F6kWPfANvdUB",
        "outputId": "1295ab96-2027-434f-9282-16a10c50cc71"
      },
      "outputs": [
        {
          "data": {
            "text/plain": [
              "(['job',\n",
              "  'marital',\n",
              "  'education',\n",
              "  'default',\n",
              "  'housing',\n",
              "  'loan',\n",
              "  'contact',\n",
              "  'month',\n",
              "  'poutcome',\n",
              "  'y'],\n",
              " ['age', 'balance', 'day', 'duration', 'campaign', 'pdays', 'previous'])"
            ]
          },
          "execution_count": 17,
          "metadata": {},
          "output_type": "execute_result"
        }
      ],
      "source": [
        "variable_type(df)"
      ]
    },
    {
      "cell_type": "code",
      "execution_count": 18,
      "metadata": {
        "id": "qvAkzNHJvdZ8"
      },
      "outputs": [],
      "source": [
        "# Step 2: Apply StringIndexer to Character Columns\n",
        "from pyspark.ml.feature import StringIndexer\n",
        "from pyspark.ml import Pipeline\n",
        "\n",
        "#converts each category column to index\n",
        "def category_to_index(df, char_vars):\n",
        "\n",
        "    char_df = df.select(char_vars)\n",
        "    indexers = [StringIndexer(inputCol=c, outputCol=c+\"_index\",\n",
        "               handleInvalid=\"keep\") for c in char_df.columns]\n",
        "    pipeline = Pipeline(stages=indexers)\n",
        "    char_labels = pipeline.fit(char_df)\n",
        "    df = char_labels.transform(df) #?\n",
        "    return df, char_labels\n",
        "\n",
        "#apply category_to_index function on our DataFrame\n",
        "df, char_labels = category_to_index(df, char_vars)"
      ]
    },
    {
      "cell_type": "code",
      "execution_count": 19,
      "metadata": {
        "id": "ReWZ7u5dyZXK"
      },
      "outputs": [],
      "source": [
        "df = df.select([c for c in df.columns if c not in char_vars])"
      ]
    },
    {
      "cell_type": "code",
      "execution_count": 20,
      "metadata": {
        "colab": {
          "base_uri": "https://localhost:8080/"
        },
        "id": "BiRkcLytjDsg",
        "outputId": "8775a172-587f-4f23-8b4d-544d1dead3d6"
      },
      "outputs": [
        {
          "name": "stdout",
          "output_type": "stream",
          "text": [
            "DataFrame[age: int, balance: int, day: int, duration: int, campaign: int, pdays: int, previous: int, job_index: double, marital_index: double, education_index: double, default_index: double, housing_index: double, loan_index: double, contact_index: double, month_index: double, poutcome_index: double, y_index: double]\n"
          ]
        }
      ],
      "source": [
        "print(df)"
      ]
    },
    {
      "cell_type": "code",
      "execution_count": 21,
      "metadata": {
        "id": "gaQMStOSyZaE"
      },
      "outputs": [],
      "source": [
        "#rename _index columns to original variable name\n",
        "def rename_columns(df, char_vars):\n",
        "    mapping = dict(zip([i + '_index' for i in char_vars], char_vars))\n",
        "    df = df.select([col(c).alias(mapping.get(c, c)) for c in df.columns])\n",
        "    return df\n",
        "\n",
        "# apply rename_columns to our DataFrame\n",
        "df = rename_columns(df, char_vars)"
      ]
    },
    {
      "cell_type": "code",
      "execution_count": 22,
      "metadata": {
        "colab": {
          "base_uri": "https://localhost:8080/"
        },
        "id": "if6wbKbPyZcP",
        "outputId": "3e0e685e-1799-445c-e9fe-5ebfdeb78f53"
      },
      "outputs": [
        {
          "data": {
            "text/plain": [
              "DataFrame[age: int, balance: int, day: int, duration: int, campaign: int, pdays: int, previous: int, job: double, marital: double, education: double, default: double, housing: double, loan: double, contact: double, month: double, poutcome: double, y: double]"
            ]
          },
          "execution_count": 22,
          "metadata": {},
          "output_type": "execute_result"
        }
      ],
      "source": [
        "rename_columns(df, char_vars)\n",
        "# The DataFrame is now completely numeric."
      ]
    },
    {
      "cell_type": "code",
      "execution_count": 23,
      "metadata": {
        "id": "I_UpIV2Oy7qC"
      },
      "outputs": [],
      "source": [
        "# Step 3: Assemble features into one vector\n",
        "from pyspark.ml.feature import VectorAssembler\n",
        "\n",
        "#assemble individual columns to one column - 'features'\n",
        "def assemble_vectors(df, features_list, target_variable_name):\n",
        "    stages = []\n",
        "    #assemble vectors\n",
        "    assembler = VectorAssembler(inputCols=features_list,\n",
        "    outputCol='features')\n",
        "    stages = [assembler]\n",
        "    #select all the columns + target + newly created 'features' column\n",
        "    selectedCols = [target_variable_name, 'features'] + features_list\n",
        "    #use pipeline to process sequentially\n",
        "    pipeline = Pipeline(stages=stages)\n",
        "    #assembler model\n",
        "    assembleModel = pipeline.fit(df)\n",
        "    #apply assembler model on data\n",
        "    df = assembleModel.transform(df).select(selectedCols)\n",
        "    return df\n",
        "\n",
        "# exclude target variable and select all other feature vectors\n",
        "features_list = df.columns\n",
        "features_list.remove(target_variable_name)\n",
        "\n",
        "# apply the function on our DataFrame\n",
        "df = assemble_vectors(df, features_list, target_variable_name)"
      ]
    },
    {
      "cell_type": "code",
      "execution_count": 24,
      "metadata": {
        "colab": {
          "base_uri": "https://localhost:8080/"
        },
        "id": "gNVejW0-y7vs",
        "outputId": "fd0bb8ce-d126-4711-839e-72865de84f0e"
      },
      "outputs": [
        {
          "data": {
            "text/plain": [
              "{'numeric': [{'idx': 0, 'name': 'age'},\n",
              "  {'idx': 1, 'name': 'balance'},\n",
              "  {'idx': 2, 'name': 'day'},\n",
              "  {'idx': 3, 'name': 'duration'},\n",
              "  {'idx': 4, 'name': 'campaign'},\n",
              "  {'idx': 5, 'name': 'pdays'},\n",
              "  {'idx': 6, 'name': 'previous'}],\n",
              " 'nominal': [{'vals': ['blue-collar',\n",
              "    'management',\n",
              "    'technician',\n",
              "    'admin.',\n",
              "    'services',\n",
              "    'retired',\n",
              "    'self-employed',\n",
              "    'entrepreneur',\n",
              "    'unemployed',\n",
              "    'housemaid',\n",
              "    'student',\n",
              "    'unknown',\n",
              "    '__unknown'],\n",
              "   'idx': 7,\n",
              "   'name': 'job'},\n",
              "  {'vals': ['married', 'single', 'divorced', '__unknown'],\n",
              "   'idx': 8,\n",
              "   'name': 'marital'},\n",
              "  {'vals': ['secondary', 'tertiary', 'primary', 'unknown', '__unknown'],\n",
              "   'idx': 9,\n",
              "   'name': 'education'},\n",
              "  {'vals': ['no', 'yes', '__unknown'], 'idx': 10, 'name': 'default'},\n",
              "  {'vals': ['yes', 'no', '__unknown'], 'idx': 11, 'name': 'housing'},\n",
              "  {'vals': ['no', 'yes', '__unknown'], 'idx': 12, 'name': 'loan'},\n",
              "  {'vals': ['cellular', 'unknown', 'telephone', '__unknown'],\n",
              "   'idx': 13,\n",
              "   'name': 'contact'},\n",
              "  {'vals': ['may',\n",
              "    'jul',\n",
              "    'aug',\n",
              "    'jun',\n",
              "    'nov',\n",
              "    'apr',\n",
              "    'feb',\n",
              "    'jan',\n",
              "    'oct',\n",
              "    'sep',\n",
              "    'mar',\n",
              "    'dec',\n",
              "    '__unknown'],\n",
              "   'idx': 14,\n",
              "   'name': 'month'},\n",
              "  {'vals': ['unknown', 'failure', 'other', 'success', '__unknown'],\n",
              "   'idx': 15,\n",
              "   'name': 'poutcome'}]}"
            ]
          },
          "execution_count": 24,
          "metadata": {},
          "output_type": "execute_result"
        }
      ],
      "source": [
        "df.schema[\"features\"].metadata[\"ml_attr\"][\"attrs\"]"
      ]
    },
    {
      "cell_type": "code",
      "execution_count": 25,
      "metadata": {
        "colab": {
          "base_uri": "https://localhost:8080/"
        },
        "id": "czZgZYAzzKF7",
        "outputId": "1c85c5e6-d35c-4bd0-8a58-93e5e4f482a7"
      },
      "outputs": [
        {
          "name": "stdout",
          "output_type": "stream",
          "text": [
            "   idx      name\n",
            "0    0       age\n",
            "1    1   balance\n",
            "2    2       day\n",
            "3    3  duration\n",
            "4    4  campaign\n",
            "5    5     pdays\n",
            "6    6  previous\n",
            "                                                vals  idx       name\n",
            "0  [blue-collar, management, technician, admin., ...    7        job\n",
            "1             [married, single, divorced, __unknown]    8    marital\n",
            "2  [secondary, tertiary, primary, unknown, __unkn...    9  education\n",
            "3                               [no, yes, __unknown]   10    default\n",
            "4                               [yes, no, __unknown]   11    housing\n",
            "5                               [no, yes, __unknown]   12       loan\n",
            "6          [cellular, unknown, telephone, __unknown]   13    contact\n",
            "7  [may, jul, aug, jun, nov, apr, feb, jan, oct, ...   14      month\n",
            "8      [unknown, failure, other, success, __unknown]   15   poutcome\n"
          ]
        }
      ],
      "source": [
        "import pandas as pd\n",
        "for k, v in df.schema[\"features\"].metadata[\"ml_attr\"][\"attrs\"].items():\n",
        "    features_df = pd.DataFrame(v)\n",
        "    print(features_df)\n",
        "#  The DataFrame (df) must be compatible with the downstream task"
      ]
    },
    {
      "cell_type": "markdown",
      "metadata": {
        "id": "MkhhQn2U7X1h"
      },
      "source": [
        "# Built-in Variable Selection Process: Without Target\n",
        "To reduce the dimension of the data without an explicit target (data compression).\n",
        "\n",
        "PCA identify patterns in large datasets that can recognize the variables that contain the most information. It guide us in identifying the variable that is most important to the clustering  of variables. It finds the best-fitting line by maximizing the sum of the squared distances from the projected points to the origin. If the variable distribution is all centered close to the mean, it usually contains tiny information.\n",
        "\n",
        "Eigenvalues are the sum of squares of the distances between the projected points and the origins of the identified PCs.\n",
        "\n",
        "The mean of both variables are calculated."
      ]
    },
    {
      "cell_type": "code",
      "execution_count": 26,
      "metadata": {
        "colab": {
          "base_uri": "https://localhost:8080/"
        },
        "id": "UIt_5dgSzKJd",
        "outputId": "fa25fbad-e186-43cc-9b35-0c1a2c60270e"
      },
      "outputs": [
        {
          "name": "stdout",
          "output_type": "stream",
          "text": [
            "+------------------------------------------------------------+\n",
            "|pcaFeatures                                                 |\n",
            "+------------------------------------------------------------+\n",
            "|[-2143.4953647735815,-257.0420740676505,1.244971275304795]  |\n",
            "|[-29.2922617516463,-150.92888640669167,1.0493026899279936]  |\n",
            "|[-2.150889773941893,-75.98191250436612,1.0760651955381264]  |\n",
            "|[-1506.182330590812,-89.215471546727,1.2683999536976094]    |\n",
            "|[-1.375090834944834,-197.98356175494823,0.9892427009816441] |\n",
            "|[-231.26679712386624,-138.56034919503713,1.057696089139628] |\n",
            "|[-447.4072782675641,-216.16541383839746,1.0066666548031191] |\n",
            "|[-2.7123264447442366,-379.9785828164355,0.8751504698368221] |\n",
            "|[-121.11144848214052,-49.75636025970779,1.1725853591924071] |\n",
            "|[-593.1146061641075,-53.893642618320335,1.181702273226208]  |\n",
            "|[-270.4212341323417,-221.48699661827916,1.017082407320575]  |\n",
            "|[-390.2608167665409,-136.27016909339133,1.0625336862699812] |\n",
            "|[-6.967616100129205,-516.9674558248697,0.800354576807153]   |\n",
            "|[-71.15006476185235,-70.84798774752198,1.1499619332808801]  |\n",
            "|[-162.33874829001977,-173.68095250690794,1.08233451832482]  |\n",
            "|[-229.6653970256463,-352.55905659749016,0.9435034899633553] |\n",
            "|[-13.19533609012048,-97.95815345000722,1.0902785009001967]  |\n",
            "|[-52.08909854893982,-37.883191804028364,1.168229651755925]  |\n",
            "|[-60.42264272680151,-218.86732123338797,1.0462594933058567] |\n",
            "|[-0.11044203745874934,-53.98554342962399,1.0903138050958263]|\n",
            "+------------------------------------------------------------+\n",
            "only showing top 20 rows\n",
            "\n"
          ]
        }
      ],
      "source": [
        "from pyspark.ml.feature import PCA\n",
        "from pyspark.ml.linalg import Vectors\n",
        "no_of_components = 3 #custom number\n",
        "pca = PCA(k=no_of_components, inputCol=\"features\", outputCol=\"pcaFeatures\")\n",
        "model = pca.fit(df)\n",
        "result = model.transform(df).select(\"pcaFeatures\")\n",
        "result.show(truncate=False)\n",
        "\n",
        "# pcaFeatures is the reduced set of features produced by the PCA alogorithm that can be used in the downstream ML process"
      ]
    },
    {
      "cell_type": "code",
      "execution_count": 27,
      "metadata": {
        "colab": {
          "base_uri": "https://localhost:8080/"
        },
        "id": "pOS-NOoHzKMk",
        "outputId": "73791ffd-0f4b-4ab2-dae3-dfa33fe29080"
      },
      "outputs": [
        {
          "data": {
            "text/plain": [
              "array([[-3.41021399e-04,  2.79524640e-04,  2.58353293e-03],\n",
              "       [-9.99998245e-01,  1.83654726e-03,  1.13892524e-04],\n",
              "       [-1.22934480e-05,  9.79995613e-04,  7.79347982e-03],\n",
              "       [-1.83671689e-03, -9.99996986e-01, -7.36955549e-04],\n",
              "       [ 1.48468991e-05,  1.01391994e-03,  2.75121381e-03],\n",
              "       [-1.13085547e-04,  7.49207153e-04, -9.99889046e-01],\n",
              "       [-1.26153895e-05, -6.36100089e-06, -1.04654388e-02],\n",
              "       [-1.78789640e-05, -4.11817349e-05,  5.51411389e-04],\n",
              "       [ 6.41085932e-06, -5.23364803e-05, -1.45349520e-04],\n",
              "       [-1.11185424e-05,  1.30366514e-05,  2.01500982e-04],\n",
              "       [ 2.91665702e-06,  4.42643869e-06,  3.95562163e-05],\n",
              "       [-1.12221341e-05,  1.26153926e-05,  6.17569266e-04],\n",
              "       [ 1.01623400e-05,  1.50687571e-05,  8.23933054e-05],\n",
              "       [-5.68377754e-07,  6.95393403e-05,  1.03951369e-03],\n",
              "       [-7.60886236e-05, -1.16754927e-04, -3.24662847e-03],\n",
              "       [-8.55162111e-06, -6.01853226e-05, -4.94522998e-03]])"
            ]
          },
          "execution_count": 27,
          "metadata": {},
          "output_type": "execute_result"
        }
      ],
      "source": [
        "# To get the loading scores for each variable\n",
        "model.pc.toArray()"
      ]
    },
    {
      "cell_type": "markdown",
      "metadata": {
        "id": "WCj3NCWLAF-P"
      },
      "source": [
        "From the above, the BALANCE variable dominates the PC1 component, DURATION for the PC2 component, and PDAYS for the PC3 component"
      ]
    },
    {
      "cell_type": "code",
      "execution_count": 28,
      "metadata": {
        "colab": {
          "base_uri": "https://localhost:8080/"
        },
        "id": "0AdMhSgH_eOg",
        "outputId": "c5ce937d-bdc6-4de8-8733-43139a0b0ea6"
      },
      "outputs": [
        {
          "data": {
            "text/plain": [
              "DenseVector([0.9918, 0.0071, 0.0011])"
            ]
          },
          "execution_count": 28,
          "metadata": {},
          "output_type": "execute_result"
        }
      ],
      "source": [
        "# The variance explained by each component\n",
        "model.explainedVariance"
      ]
    },
    {
      "cell_type": "code",
      "execution_count": 29,
      "metadata": {
        "colab": {
          "base_uri": "https://localhost:8080/",
          "height": 466
        },
        "id": "YREd56WC_eRA",
        "outputId": "cfa71e36-18cb-40b6-df12-b0308f76902f"
      },
      "outputs": [
        {
          "data": {
            "text/plain": [
              "[<matplotlib.lines.Line2D at 0x7879dc30c730>]"
            ]
          },
          "execution_count": 29,
          "metadata": {},
          "output_type": "execute_result"
        },
        {
          "data": {
            "image/png": "[encoded data removed]",
            "text/plain": [
              "<Figure size 640x480 with 1 Axes>"
            ]
          },
          "metadata": {},
          "output_type": "display_data"
        }
      ],
      "source": [
        "# The scree plot\n",
        "import matplotlib.pyplot as plt\n",
        "import numpy as np\n",
        "x = []\n",
        "for i in range(0, len(model.explainedVariance)):\n",
        "    x.append('PC' + str(i + 1))\n",
        "y = np.array(model.explainedVariance)\n",
        "z = np.cumsum(model.explainedVariance)\n",
        "plt.xlabel('Principal Components')\n",
        "plt.ylabel('Variance Explained')\n",
        "plt.bar(x, y)\n",
        "plt.plot(x, z)"
      ]
    },
    {
      "cell_type": "markdown",
      "metadata": {
        "id": "IvAi7P6EA8Cx"
      },
      "source": [
        "From the above graph, the first principal component explains 99% of the variance in the data because we did not scale our DataFrame before we used PCA."
      ]
    },
    {
      "cell_type": "code",
      "execution_count": 30,
      "metadata": {
        "colab": {
          "base_uri": "https://localhost:8080/"
        },
        "id": "9gGWdQrR_eT-",
        "outputId": "b02e04e6-b520-4fb6-ae9c-2ce4302f3ed3"
      },
      "outputs": [
        {
          "name": "stdout",
          "output_type": "stream",
          "text": [
            "+------------------------------------------------------------+\n",
            "|pcaFeatures                                                 |\n",
            "+------------------------------------------------------------+\n",
            "|[-0.6567808835228053,4.312194871155298,-4.393764846980897]  |\n",
            "|[-0.5905533920179782,2.7430023739115263,-2.0129736282025603]|\n",
            "|[-0.7923309293106011,2.42851782220271,-1.4128758397245442]  |\n",
            "|[-0.7779852947451467,4.2983026320660285,-5.322505502928544] |\n",
            "|[-0.5280039534401372,6.559141503669074,-1.4081500208397857] |\n",
            "|[-0.7028277580737633,2.7093407342344875,-3.226355647066133] |\n",
            "|[-0.810487232779213,1.4290210013445708,-1.6199354413340639] |\n",
            "|[-0.9758735335487276,2.8620448590159584,0.4335559756415577] |\n",
            "|[-0.7126916038562823,5.17563771639752,-4.531453571469942]   |\n",
            "|[-0.593913202612401,2.7467852504302575,-2.0709944257197637] |\n",
            "|[-0.4836720278657366,2.5845022963066207,-0.8133472106594234]|\n",
            "|[-0.5574665926506133,2.0798200304073173,-1.1695266299980627]|\n",
            "|[-0.6052039081600498,3.494381285319365,-3.0606558247969886] |\n",
            "|[-0.7917889584107325,5.1044484801153756,-5.533708763513016] |\n",
            "|[-0.6341314284096167,4.061248668356402,-3.2668691358888555] |\n",
            "|[-0.6515302947285254,4.807107975840055,-3.960226277230534]  |\n",
            "|[-0.6913724174639265,4.317335145410395,-3.852434963708427]  |\n",
            "|[-0.7928529953941112,4.245538907894086,-5.143335647201438]  |\n",
            "|[-0.6860141754953218,5.301081379539059,-4.498620888117959]  |\n",
            "|[-0.6396798564710505,2.621609196420629,-2.156084788188057]  |\n",
            "+------------------------------------------------------------+\n",
            "only showing top 20 rows\n",
            "\n"
          ]
        }
      ],
      "source": [
        "from pyspark.ml.feature import VectorAssembler\n",
        "from pyspark.ml.feature import StandardScaler\n",
        "\n",
        "#assemble and scale individual columns to one column - 'features2'\n",
        "def scaled_assemble_vectors(df, features_list, target_variable_name):\n",
        "    stages = []\n",
        "    assembler = VectorAssembler(inputCols=features_list, outputCol='assembled_features') #assemble vectors\n",
        "    scaler = StandardScaler(inputCol=assembler.getOutputCol(), outputCol='features2')\n",
        "    stages = [assembler, scaler]\n",
        "    selectedCols = [target_variable_name, 'features2'] + features_list #select all the columns + target + newly created 'features' column\n",
        "    pipeline = Pipeline(stages=stages) #use pipeline to process sequentially\n",
        "    scaleAssembleModel = pipeline.fit(df) #assembler model\n",
        "    df = scaleAssembleModel.transform(df).select(selectedCols) #apply assembler model on data\n",
        "    return df\n",
        "features_list = df.columns\n",
        "features_list.remove(target_variable_name)\n",
        "df = scaled_assemble_vectors(df, features_list, target_variable_name)\n",
        "\n",
        "from pyspark.ml.feature import PCA\n",
        "from pyspark.ml.linalg import Vectors\n",
        "\n",
        "pca = PCA(k=3, inputCol=\"features2\", outputCol=\"pcaFeatures\")\n",
        "model = pca.fit(df)\n",
        "\n",
        "result = model.transform(df).select(\"pcaFeatures\")\n",
        "result.show(truncate=False)"
      ]
    },
    {
      "cell_type": "markdown",
      "metadata": {
        "id": "esNKy0zZCXYb"
      },
      "source": [
        "When PCA is run with the newly created DataFrame from the preceding code, the variance explained by the first component is changed drastically."
      ]
    },
    {
      "cell_type": "code",
      "execution_count": 31,
      "metadata": {
        "colab": {
          "base_uri": "https://localhost:8080/"
        },
        "id": "226d0-Z6_eVm",
        "outputId": "9a5b0897-c31b-4aae-f19b-060e15e74454"
      },
      "outputs": [
        {
          "data": {
            "text/plain": [
              "array([[-0.004235  ,  0.31145353, -0.26369491],\n",
              "       [ 0.03423185,  0.1928538 , -0.09378775],\n",
              "       [-0.08159571,  0.00735314, -0.01093587],\n",
              "       [ 0.02258652,  0.01207569,  0.09783498],\n",
              "       [-0.09750453, -0.01505392, -0.13223208],\n",
              "       [ 0.38906235, -0.10676363, -0.10055607],\n",
              "       [ 0.32421309, -0.05649281, -0.11841411],\n",
              "       [ 0.02062378,  0.22986117,  0.17519785],\n",
              "       [ 0.02465328, -0.06652983,  0.30496446],\n",
              "       [-0.01528388,  0.19502562, -0.27178677],\n",
              "       [-0.03590056, -0.0599626 ,  0.08395041],\n",
              "       [ 0.00319029,  0.38740709,  0.17909603],\n",
              "       [-0.03722061, -0.13065229,  0.06100361],\n",
              "       [-0.15724617, -0.00297912, -0.30082714],\n",
              "       [ 0.18201491,  0.29037062,  0.1860691 ],\n",
              "       [ 0.40477716, -0.02040979, -0.0694982 ],\n",
              "       [-0.004235  ,  0.31145353, -0.26369491],\n",
              "       [ 0.03423185,  0.1928538 , -0.09378775],\n",
              "       [-0.08159571,  0.00735314, -0.01093587],\n",
              "       [ 0.02258652,  0.01207569,  0.09783498],\n",
              "       [-0.09750453, -0.01505392, -0.13223208],\n",
              "       [ 0.38906235, -0.10676363, -0.10055607],\n",
              "       [ 0.32421309, -0.05649281, -0.11841411],\n",
              "       [ 0.02062378,  0.22986117,  0.17519785],\n",
              "       [ 0.02465328, -0.06652983,  0.30496446],\n",
              "       [-0.01528388,  0.19502562, -0.27178677],\n",
              "       [-0.03590056, -0.0599626 ,  0.08395041],\n",
              "       [ 0.00319029,  0.38740709,  0.17909603],\n",
              "       [-0.03722061, -0.13065229,  0.06100361],\n",
              "       [-0.15724617, -0.00297912, -0.30082714],\n",
              "       [ 0.18201491,  0.29037062,  0.1860691 ],\n",
              "       [ 0.40477716, -0.02040979, -0.0694982 ]])"
            ]
          },
          "execution_count": 31,
          "metadata": {},
          "output_type": "execute_result"
        }
      ],
      "source": [
        "model.pc.toArray()"
      ]
    },
    {
      "cell_type": "code",
      "execution_count": 32,
      "metadata": {
        "colab": {
          "base_uri": "https://localhost:8080/",
          "height": 466
        },
        "id": "OTzrmunI_ehG",
        "outputId": "20b07ae2-d264-4e85-b1a4-7abbbd39282c"
      },
      "outputs": [
        {
          "data": {
            "text/plain": [
              "[<matplotlib.lines.Line2D at 0x7879dc2ee860>]"
            ]
          },
          "execution_count": 32,
          "metadata": {},
          "output_type": "execute_result"
        },
        {
          "data": {
            "image/png": "[encoded data removed]",
            "text/plain": [
              "<Figure size 640x480 with 1 Axes>"
            ]
          },
          "metadata": {},
          "output_type": "display_data"
        }
      ],
      "source": [
        "# The scree plot\n",
        "import matplotlib.pyplot as plt\n",
        "import numpy as np\n",
        "x = []\n",
        "for i in range(0, len(model.explainedVariance)):\n",
        "    x.append('PC' + str(i + 1))\n",
        "y = np.array(model.explainedVariance)\n",
        "z = np.cumsum(model.explainedVariance)\n",
        "plt.xlabel('Principal Components')\n",
        "plt.ylabel('Variance Explained')\n",
        "plt.bar(x, y)\n",
        "plt.plot(x, z)"
      ]
    },
    {
      "cell_type": "markdown",
      "metadata": {
        "id": "jwJ2uk9nCyKE"
      },
      "source": [
        "SVD -  Any matrix can be decomposed using SVD which is a more stable algorithm.\n",
        "SVDs are used more for image data compression and in image recovery."
      ]
    },
    {
      "cell_type": "code",
      "execution_count": 33,
      "metadata": {
        "id": "LFuEv1UqCxrb"
      },
      "outputs": [],
      "source": [
        "from pyspark.mllib.linalg import Vectors\n",
        "from pyspark.mllib.linalg.distributed import RowMatrix\n",
        "\n",
        "# convert DataFrame to rdd\n",
        "df_svd_vector = df.rdd.map(lambda x: x['features'].toArray())\n",
        "mat = RowMatrix(df_svd_vector)\n",
        "\n",
        "# Compute the top 5 singular values and corresponding singular vectors.\n",
        "svd = mat.computeSVD(5, computeU=True)\n",
        "U = svd.U       # The U factor is a RowMatrix.\n",
        "s = svd.s       # The singular values are stored in a local dense vector.\n",
        "V = svd.V       # The V factor is a local dense matrix."
      ]
    },
    {
      "cell_type": "code",
      "execution_count": 34,
      "metadata": {
        "colab": {
          "base_uri": "https://localhost:8080/"
        },
        "id": "S4ggsC5QCxub",
        "outputId": "37acaf49-77fd-4149-f025-a34e9d5766c3"
      },
      "outputs": [
        {
          "name": "stdout",
          "output_type": "stream",
          "text": [
            "U: <pyspark.mllib.linalg.distributed.RowMatrix object at 0x7879d8c7afe0>\n",
            "s: [709656.9402544986,74266.71444460031,22052.822728476745,6458.186158191573,1846.0544468005473]\n",
            "V: DenseMatrix([[-5.32045026e-03,  7.17134065e-02, -6.66155882e-02,\n",
            "               9.24391757e-01,  3.59273745e-01],\n",
            "             [-9.99410373e-01, -3.41100513e-02,  2.65017997e-03,\n",
            "              -2.89441790e-03, -6.24622758e-05],\n",
            "             [-1.95484507e-03,  2.74592236e-02, -2.00435750e-02,\n",
            "               3.52915009e-01, -9.30413502e-01],\n",
            "             [-3.34805136e-02,  9.93450259e-01,  8.25928509e-02,\n",
            "              -7.15063617e-02,  4.44990809e-04],\n",
            "             [-3.27512126e-04,  4.37805988e-03, -2.67568306e-03,\n",
            "               6.55601660e-02, -7.11682726e-02],\n",
            "             [-5.04431069e-03,  7.70165284e-02, -9.94042767e-01,\n",
            "              -7.57844715e-02, -5.18910230e-03],\n",
            "             [-8.19443306e-05,  1.06911241e-03, -1.06408893e-02,\n",
            "               2.24222659e-03,  2.92603705e-03],\n",
            "             [-3.47212922e-04,  4.76996462e-03, -3.99130588e-03,\n",
            "               5.62559885e-02,  1.77867735e-03],\n",
            "             [-5.78265009e-05,  9.55207853e-04, -9.80910647e-04,\n",
            "               9.12940323e-03, -6.42093251e-03],\n",
            "             [-9.78948069e-05,  1.24398763e-03, -1.01734650e-03,\n",
            "               1.58445311e-02,  4.51046567e-03],\n",
            "             [ 2.09087613e-07,  3.64910789e-05, -2.59605628e-06,\n",
            "               4.83155301e-04, -2.92354754e-04],\n",
            "             [-6.39796796e-05,  7.50612482e-04, -1.62917701e-04,\n",
            "               1.01710015e-02,  1.55095231e-03],\n",
            "             [-1.12580898e-05,  3.00591739e-04, -2.24414920e-04,\n",
            "               3.60599926e-03, -1.34643578e-03],\n",
            "             [-5.17060796e-05,  6.94117966e-04,  2.22545429e-04,\n",
            "               1.03004000e-02,  2.83624546e-03],\n",
            "             [-3.62433459e-04,  4.21285195e-03, -6.88112768e-03,\n",
            "               4.53848224e-02,  8.60833793e-03],\n",
            "             [-4.28359035e-05,  5.57867577e-04, -5.02001622e-03,\n",
            "               1.09179355e-03,  1.13604541e-03]])\n"
          ]
        }
      ],
      "source": [
        "print(\"U:\", U)\n",
        "print(\"s:\", s)\n",
        "print(\"V:\", V)"
      ]
    },
    {
      "cell_type": "markdown",
      "metadata": {
        "id": "x2X5U0__Erhf"
      },
      "source": [
        "# Built-in Variable Selection Process: With Target\n",
        "Chi-Square is called a \"goodness of fit\" statistic. It used the Chi-Squared test of independence to select the best features. Useful when dealing with categorical variables. Continuous variables can also be used but binning them into groups first is necessary. It does not measure the strength of relationship."
      ]
    },
    {
      "cell_type": "code",
      "execution_count": 35,
      "metadata": {
        "colab": {
          "base_uri": "https://localhost:8080/"
        },
        "id": "dXAvvcrZCxw2",
        "outputId": "a03b710f-1569-48b8-aa45-a14b27040d15"
      },
      "outputs": [
        {
          "name": "stdout",
          "output_type": "stream",
          "text": [
            "ChiSqSelector output with top 6 features selected\n",
            "Selected Indices:  [0, 1, 2, 3, 4, 5]\n",
            "                                                vals  idx       name  \\\n",
            "0  [blue-collar, management, technician, admin., ...    7        job   \n",
            "1             [married, single, divorced, __unknown]    8    marital   \n",
            "2  [secondary, tertiary, primary, unknown, __unkn...    9  education   \n",
            "3                               [no, yes, __unknown]   10    default   \n",
            "4                               [yes, no, __unknown]   11    housing   \n",
            "5                               [no, yes, __unknown]   12       loan   \n",
            "6          [cellular, unknown, telephone, __unknown]   13    contact   \n",
            "7  [may, jul, aug, jun, nov, apr, feb, jan, oct, ...   14      month   \n",
            "8      [unknown, failure, other, success, __unknown]   15   poutcome   \n",
            "\n",
            "   chisq_importance  \n",
            "0                 0  \n",
            "1                 0  \n",
            "2                 0  \n",
            "3                 0  \n",
            "4                 0  \n",
            "5                 0  \n",
            "6                 0  \n",
            "7                 0  \n",
            "8                 0  \n"
          ]
        }
      ],
      "source": [
        "#select only categorical features present in the dataset\n",
        "features_list = char_vars #this option is used only for ChiSqselector\n",
        "#run assembled vectors before running this code with the updated features\n",
        "list\n",
        "\n",
        "from pyspark.ml.feature import ChiSqSelector\n",
        "from pyspark.ml.linalg import Vectors\n",
        "\n",
        "#chisqselector instance initiation\n",
        "selector = ChiSqSelector(numTopFeatures=6, featuresCol=\"features\",\n",
        "                         outputCol=\"selectedFeatures\", labelCol=\"y\")\n",
        "#fit on the data\n",
        "chi_selector = selector.fit(df)\n",
        "#result datasets\n",
        "result = chi_selector.transform(df)\n",
        "#outputs\n",
        "print(\"ChiSqSelector output with top %d features selected\" % selector.getNumTopFeatures())\n",
        "print(\"Selected Indices: \", chi_selector.selectedFeatures)\n",
        "features_df['chisq_importance'] = features_df['idx'].apply(lambda x: 1 if x in chi_selector.selectedFeatures else 0)\n",
        "print(features_df)"
      ]
    },
    {
      "cell_type": "code",
      "execution_count": 36,
      "metadata": {
        "colab": {
          "base_uri": "https://localhost:8080/"
        },
        "id": "IKL156zYZZZm",
        "outputId": "efd3ef90-2e95-4cf9-d7a5-b7c6dd85463e"
      },
      "outputs": [
        {
          "data": {
            "text/plain": [
              "SparseVector(16, {0: 0.0269, 1: 0.0059, 2: 0.0038, 3: 0.495, 4: 0.005, 5: 0.024, 6: 0.0337, 7: 0.0062, 8: 0.002, 9: 0.002, 11: 0.0172, 12: 0.0006, 13: 0.0252, 14: 0.1038, 15: 0.2488})"
            ]
          },
          "execution_count": 36,
          "metadata": {},
          "output_type": "execute_result"
        }
      ],
      "source": [
        "from pyspark.ml.classification import RandomForestClassifier\n",
        "rf = RandomForestClassifier(featuresCol='features', labelCol=target_variable_name)\n",
        "rf_model = rf.fit(df)\n",
        "rf_model.featureImportances"
      ]
    },
    {
      "cell_type": "code",
      "execution_count": 37,
      "metadata": {
        "id": "trfyUTd8ZZcf"
      },
      "outputs": [],
      "source": [
        "import pandas as pd\n",
        "for k, v in df.schema[\"features\"].metadata[\"ml_attr\"][\"attrs\"].items():\n",
        "    features_df = pd.DataFrame(v)\n",
        "\n",
        "#temporary output rf_output\n",
        "rf_output = rf_model.featureImportances\n",
        "features_df['Importance'] = features_df['idx'].apply(lambda x: rf_output[x]\n",
        "if x in rf_output.indices else 0)\n",
        "\n",
        "#sort values based on descending importance feature\n",
        "features_df.sort_values(\"Importance\", ascending=False, inplace=True)"
      ]
    },
    {
      "cell_type": "code",
      "execution_count": 38,
      "metadata": {
        "colab": {
          "base_uri": "https://localhost:8080/",
          "height": 489
        },
        "id": "_DBqPdyLZZfI",
        "outputId": "888c958e-87cd-4b5d-9899-1dd29a4b85a2"
      },
      "outputs": [
        {
          "data": {
            "text/plain": [
              "Text(0, 0.5, 'Variable Importance')"
            ]
          },
          "execution_count": 38,
          "metadata": {},
          "output_type": "execute_result"
        },
        {
          "data": {
            "image/png": "[encoded data removed]",
            "text/plain": [
              "<Figure size 640x480 with 1 Axes>"
            ]
          },
          "metadata": {},
          "output_type": "display_data"
        }
      ],
      "source": [
        "import matplotlib.pyplot as plt\n",
        "\n",
        "#just for plotting purposes sort it to ascending\n",
        "features_df.sort_values(\"Importance\", ascending=True, inplace=True)\n",
        "plt.barh(features_df['name'], features_df['Importance'])\n",
        "plt.title(\"Feature Importance Plot\")\n",
        "plt.xlabel(\"Importance Score\")\n",
        "plt.ylabel(\"Variable Importance\")"
      ]
    },
    {
      "cell_type": "markdown",
      "metadata": {
        "id": "UdKP3OErbGIx"
      },
      "source": [
        "From the above, the variable poutcome is the most important one followed by month, contact and so forth...\n",
        "\n",
        "When dealing with large datasets, Random Forest-based feature selection is better suited. One drawback in using tree-based methods is that it uses the training dataset to calculate the feature importance which can inflate the importance of numeric and high-cardinality variables. The solution is to use permutation importance, which uses the test data to calculate the feature importance."
      ]
    },
    {
      "cell_type": "code",
      "execution_count": null,
      "metadata": {
        "id": "TpZCCnMEbCdy"
      },
      "outputs": [],
      "source": []
    }
  ],
  "metadata": {
    "colab": {
      "provenance": []
    },
    "kernelspec": {
      "display_name": "Python 3",
      "name": "python3"
    },
    "language_info": {
      "name": "python"
    }
  },
  "nbformat": 4,
  "nbformat_minor": 0
}
