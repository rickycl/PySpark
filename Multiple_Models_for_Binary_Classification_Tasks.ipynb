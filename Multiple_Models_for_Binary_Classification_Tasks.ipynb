{
  "nbformat": 4,
  "nbformat_minor": 0,
  "metadata": {
    "colab": {
      "provenance": [],
      "authorship_tag": "ABX9TyNRqo2hsqYeoOq5pQD6wLEJ"
    },
    "kernelspec": {
      "name": "python3",
      "display_name": "Python 3"
    },
    "language_info": {
      "name": "python"
    }
  },
  "cells": [
    {
      "cell_type": "code",
      "execution_count": 1,
      "metadata": {
        "id": "_LWOf96Nd9q9",
        "colab": {
          "base_uri": "https://localhost:8080/"
        },
        "outputId": "153328fd-5068-4b95-a401-5db903d5c275"
      },
      "outputs": [
        {
          "output_type": "stream",
          "name": "stdout",
          "text": [
            "Collecting pyspark\n",
            "  Downloading pyspark-3.5.0.tar.gz (316.9 MB)\n",
            "\u001b[2K     \u001b[90m━━━━━━━━━━━━━━━━━━━━━━━━━━━━━━━━━━━━━━━━\u001b[0m \u001b[32m316.9/316.9 MB\u001b[0m \u001b[31m2.0 MB/s\u001b[0m eta \u001b[36m0:00:00\u001b[0m\n",
            "\u001b[?25h  Preparing metadata (setup.py) ... \u001b[?25l\u001b[?25hdone\n",
            "Requirement already satisfied: py4j==0.10.9.7 in /usr/local/lib/python3.10/dist-packages (from pyspark) (0.10.9.7)\n",
            "Building wheels for collected packages: pyspark\n",
            "  Building wheel for pyspark (setup.py) ... \u001b[?25l\u001b[?25hdone\n",
            "  Created wheel for pyspark: filename=pyspark-3.5.0-py2.py3-none-any.whl size=317425345 sha256=bd5b92c438da0eb3636154577bfcf6459cb785a41f14ee741733bb6ef95821cf\n",
            "  Stored in directory: /root/.cache/pip/wheels/41/4e/10/c2cf2467f71c678cfc8a6b9ac9241e5e44a01940da8fbb17fc\n",
            "Successfully built pyspark\n",
            "Installing collected packages: pyspark\n",
            "Successfully installed pyspark-3.5.0\n"
          ]
        }
      ],
      "source": [
        "!pip install pyspark\n",
        "from pyspark.sql import SparkSession\n",
        "spark=SparkSession.builder.appName('Logistic Regression').getOrCreate()"
      ]
    },
    {
      "cell_type": "markdown",
      "source": [
        "#Binary classification tasks (2 categories only)\n",
        "Only using a subset of the data to maintain class balance for the classification tasks (to avoid an anomalous detection category task) and to limit the amount of signals in the data as some of the features in the dataset strongly affect the output.\n",
        "\n",
        "To predict if the user will subscribe to another product or service (term deposit), based on the other attributes, such as age, job, loan, etc. To find the top users who can be targeted by the business for cross-selling or upselling."
      ],
      "metadata": {
        "id": "4t8DBrBN1Mqq"
      }
    },
    {
      "cell_type": "code",
      "source": [
        "df = spark.read.csv('sample_data/bank-test3.csv', inferSchema=True, header=True)\n",
        "df.count()"
      ],
      "metadata": {
        "colab": {
          "base_uri": "https://localhost:8080/"
        },
        "id": "ZAYu0HqxI0Id",
        "outputId": "8c22cd0a-06d2-4fc4-94e7-d207ffd9ccb3"
      },
      "execution_count": 2,
      "outputs": [
        {
          "output_type": "execute_result",
          "data": {
            "text/plain": [
              "10468"
            ]
          },
          "metadata": {},
          "execution_count": 2
        }
      ]
    },
    {
      "cell_type": "code",
      "source": [
        "df.columns"
      ],
      "metadata": {
        "colab": {
          "base_uri": "https://localhost:8080/"
        },
        "id": "RpIZ5yWMI091",
        "outputId": "c20a2de2-8d67-4443-ef0e-a4921e6dc6fa"
      },
      "execution_count": 3,
      "outputs": [
        {
          "output_type": "execute_result",
          "data": {
            "text/plain": [
              "['age',\n",
              " 'job',\n",
              " 'marital',\n",
              " 'education',\n",
              " 'default',\n",
              " 'housing',\n",
              " 'loan',\n",
              " 'target_class']"
            ]
          },
          "metadata": {},
          "execution_count": 3
        }
      ]
    },
    {
      "cell_type": "code",
      "source": [
        "df.printSchema()"
      ],
      "metadata": {
        "colab": {
          "base_uri": "https://localhost:8080/"
        },
        "id": "gBVo33yXI1An",
        "outputId": "87ba4daf-2de8-4314-a2b4-dda10e6ae6f6"
      },
      "execution_count": 4,
      "outputs": [
        {
          "output_type": "stream",
          "name": "stdout",
          "text": [
            "root\n",
            " |-- age: integer (nullable = true)\n",
            " |-- job: string (nullable = true)\n",
            " |-- marital: string (nullable = true)\n",
            " |-- education: string (nullable = true)\n",
            " |-- default: string (nullable = true)\n",
            " |-- housing: string (nullable = true)\n",
            " |-- loan: string (nullable = true)\n",
            " |-- target_class: string (nullable = true)\n",
            "\n"
          ]
        }
      ]
    },
    {
      "cell_type": "code",
      "source": [
        "# Convert yeses and noes into 1s and 0s, as well as rename the target_class column to \"label\"\n",
        "df.groupBy('target_class').count().show()"
      ],
      "metadata": {
        "colab": {
          "base_uri": "https://localhost:8080/"
        },
        "id": "FzblzQYKOaxa",
        "outputId": "72180cf4-c7d0-45bb-f3a8-f0638347ff0b"
      },
      "execution_count": 5,
      "outputs": [
        {
          "output_type": "stream",
          "name": "stdout",
          "text": [
            "+------------+-----+\n",
            "|target_class|count|\n",
            "+------------+-----+\n",
            "|          no| 5179|\n",
            "|         yes| 5289|\n",
            "+------------+-----+\n",
            "\n"
          ]
        }
      ]
    },
    {
      "cell_type": "code",
      "source": [
        "# Feature Engineering\n",
        "from pyspark.sql import functions as F\n",
        "from pyspark.sql import *\n",
        "df = df.withColumn(\"label\", F.when(df.target_class == 'no', F.lit(0)).otherwise(F.lit(1)))\n",
        "df.groupBy('label').count().show()"
      ],
      "metadata": {
        "colab": {
          "base_uri": "https://localhost:8080/"
        },
        "id": "gjlvHDRHQqFh",
        "outputId": "c7276312-a21a-45c9-a926-664590c0b5b2"
      },
      "execution_count": 6,
      "outputs": [
        {
          "output_type": "stream",
          "name": "stdout",
          "text": [
            "+-----+-----+\n",
            "|label|count|\n",
            "+-----+-----+\n",
            "|    1| 5289|\n",
            "|    0| 5179|\n",
            "+-----+-----+\n",
            "\n"
          ]
        }
      ]
    },
    {
      "cell_type": "code",
      "source": [
        "from pyspark.ml.feature import OneHotEncoder, StringIndexer, VectorAssembler"
      ],
      "metadata": {
        "id": "5oSWiJ8CQqJB"
      },
      "execution_count": 7,
      "outputs": []
    },
    {
      "cell_type": "code",
      "source": [
        "# To create features for the model due to categorical columns, such as job and education. Make use of StringIndexer and OneHotEncoder\n",
        "\n",
        "def cat_to_num(df):\n",
        "  for col in df.columns:\n",
        "    stringIndexer = StringIndexer(inputCol = col, outputCol = col+\"_index\")\n",
        "\n",
        "    model = stringIndexer.fit(df)\n",
        "\n",
        "    indexed = model.transform(df)\n",
        "\n",
        "    encoder = OneHotEncoder(inputCol = col+\"_index\", outputCol = col+\"_vec\")\n",
        "\n",
        "    ohe = encoder.fit(indexed)\n",
        "\n",
        "    df = ohe.transform(indexed)\n",
        "\n",
        "  df_assembler = VectorAssembler(inputCols=['age', 'marital_vec', 'education_vec', 'default_vec', 'housing_vec', 'loan_vec'], outputCol=\"features\")\n",
        "  df = df_assembler.transform(df)\n",
        "  return df.select(['features', 'label'])"
      ],
      "metadata": {
        "id": "XruUXQZkQqL5"
      },
      "execution_count": 8,
      "outputs": []
    },
    {
      "cell_type": "code",
      "source": [
        "df_new = cat_to_num(df)\n",
        "df_new.show()"
      ],
      "metadata": {
        "colab": {
          "base_uri": "https://localhost:8080/"
        },
        "id": "uw3kaz9vQqOK",
        "outputId": "1552b379-88f8-485b-b796-7d06032231ad"
      },
      "execution_count": 9,
      "outputs": [
        {
          "output_type": "stream",
          "name": "stdout",
          "text": [
            "+--------------------+-----+\n",
            "|            features|label|\n",
            "+--------------------+-----+\n",
            "|[58.0,1.0,0.0,0.0...|    0|\n",
            "|[44.0,0.0,1.0,1.0...|    0|\n",
            "|[33.0,1.0,0.0,1.0...|    0|\n",
            "|[47.0,1.0,0.0,0.0...|    0|\n",
            "|(9,[0,2,6,8],[33....|    0|\n",
            "|[35.0,1.0,0.0,0.0...|    0|\n",
            "|[59.0,1.0,0.0,1.0...|    1|\n",
            "|[56.0,1.0,0.0,1.0...|    1|\n",
            "|[41.0,1.0,0.0,1.0...|    1|\n",
            "|[55.0,1.0,0.0,1.0...|    1|\n",
            "|[54.0,1.0,0.0,0.0...|    1|\n",
            "|[42.0,0.0,1.0,0.0...|    1|\n",
            "|[56.0,1.0,0.0,0.0...|    1|\n",
            "|[60.0,0.0,0.0,1.0...|    1|\n",
            "|[39.0,0.0,1.0,0.0...|    1|\n",
            "|[37.0,1.0,0.0,1.0...|    1|\n",
            "|[34.0,1.0,0.0,1.0...|    1|\n",
            "|[55.0,0.0,0.0,1.0...|    1|\n",
            "|[28.0,0.0,1.0,1.0...|    1|\n",
            "|[30.0,1.0,0.0,1.0...|    1|\n",
            "+--------------------+-----+\n",
            "only showing top 20 rows\n",
            "\n"
          ]
        }
      ]
    },
    {
      "cell_type": "code",
      "source": [
        "# All the input features are now merged into a single dense vector ('features'), along with output column labels, which we can use to train the ML models.\n",
        "# The new dataframe created using only 2 columns (features, label) is now called df_new. We can now split this new dataframe into train and test datasets.\n",
        "# We can split the data into a 75%/25% ratio, using the randomSplit function.\n",
        "\n",
        "# Step 3: Split the Data into Train and Test Datasets\n",
        "train, test = df_new.randomSplit([0.75, 0.25])\n",
        "print(f\"Size of train Dataset : {train.count()}\")"
      ],
      "metadata": {
        "colab": {
          "base_uri": "https://localhost:8080/"
        },
        "id": "Al0ejVcjXBnz",
        "outputId": "62b65f27-5e73-4de1-b25c-d7f681f6666f"
      },
      "execution_count": 10,
      "outputs": [
        {
          "output_type": "stream",
          "name": "stdout",
          "text": [
            "Size of train Dataset : 7901\n"
          ]
        }
      ]
    },
    {
      "cell_type": "code",
      "source": [
        "print(f\"Size of test Dataset : {test.count()}\")"
      ],
      "metadata": {
        "colab": {
          "base_uri": "https://localhost:8080/"
        },
        "id": "Mbtf9OVkXBu1",
        "outputId": "e30cd0ab-47fc-42a3-a405-463b6e68ba7d"
      },
      "execution_count": 11,
      "outputs": [
        {
          "output_type": "stream",
          "name": "stdout",
          "text": [
            "Size of test Dataset : 2567\n"
          ]
        }
      ]
    },
    {
      "cell_type": "code",
      "source": [
        "# Step 4: Build and Train the Logistic Regression Model\n",
        "from pyspark.ml.classification import LogisticRegression\n",
        "lr = LogisticRegression()\n",
        "lr_model = lr.fit(train)\n",
        "print(lr_model.coefficients)\n",
        "\n",
        "# Once the model is built, use the internal function summary, which offers details on ROC curve, precision, recall, AUC (area under the curve), etc."
      ],
      "metadata": {
        "colab": {
          "base_uri": "https://localhost:8080/"
        },
        "id": "L0obatiqX4Br",
        "outputId": "72b7b501-0c1b-479a-b848-6496e671e058"
      },
      "execution_count": 12,
      "outputs": [
        {
          "output_type": "stream",
          "name": "stdout",
          "text": [
            "[0.015744996668735654,-0.17573780180308202,0.19691855655264878,0.18864438020278904,0.6596088424547651,-0.25399285901439117,-0.30615723168760234,-1.3474636520260221,0.3610460400930601]\n"
          ]
        }
      ]
    },
    {
      "cell_type": "code",
      "source": [
        "# Step 5: Evaluate Performance on Training Data\n",
        "\n",
        "lr_summary=lr_model.summary\n",
        "lr_summary.accuracy"
      ],
      "metadata": {
        "colab": {
          "base_uri": "https://localhost:8080/"
        },
        "id": "wXHz8j_rYMkh",
        "outputId": "270d6014-0994-489e-f3ef-f226d4918619"
      },
      "execution_count": 13,
      "outputs": [
        {
          "output_type": "execute_result",
          "data": {
            "text/plain": [
              "0.6758638147069991"
            ]
          },
          "metadata": {},
          "execution_count": 13
        }
      ]
    },
    {
      "cell_type": "code",
      "source": [
        "lr_summary.areaUnderROC"
      ],
      "metadata": {
        "colab": {
          "base_uri": "https://localhost:8080/"
        },
        "id": "lT22c5KSYZDl",
        "outputId": "e42c5d4f-4b6d-4ff3-8e57-8fd05c6507b5"
      },
      "execution_count": 14,
      "outputs": [
        {
          "output_type": "execute_result",
          "data": {
            "text/plain": [
              "0.72024332048166"
            ]
          },
          "metadata": {},
          "execution_count": 14
        }
      ]
    },
    {
      "cell_type": "code",
      "source": [
        "lr_summary.weightedRecall"
      ],
      "metadata": {
        "colab": {
          "base_uri": "https://localhost:8080/"
        },
        "id": "rkz0ckNVYZGd",
        "outputId": "02a7ae38-9d1f-4882-8664-2f0cb69a038a"
      },
      "execution_count": 15,
      "outputs": [
        {
          "output_type": "execute_result",
          "data": {
            "text/plain": [
              "0.6758638147069991"
            ]
          },
          "metadata": {},
          "execution_count": 15
        }
      ]
    },
    {
      "cell_type": "code",
      "source": [
        "lr_summary.weightedPrecision"
      ],
      "metadata": {
        "colab": {
          "base_uri": "https://localhost:8080/"
        },
        "id": "m0ljynZkYZJ3",
        "outputId": "73c1f047-3af7-4a13-9d18-f76d4f8258ae"
      },
      "execution_count": 16,
      "outputs": [
        {
          "output_type": "execute_result",
          "data": {
            "text/plain": [
              "0.6766578664287813"
            ]
          },
          "metadata": {},
          "execution_count": 16
        }
      ]
    },
    {
      "cell_type": "code",
      "source": [
        "# Using the summary function, we can view the model's performance on train data, such as its accuracy, AUC, weighted recall, and precision.\n",
        "# How precision varies for various threshold values, the relation between precision and recall, and how recall varies with different threshold values\n",
        "\n",
        "lr_summary.precisionByThreshold.show()"
      ],
      "metadata": {
        "colab": {
          "base_uri": "https://localhost:8080/"
        },
        "id": "tnwpwimWYsDb",
        "outputId": "c8286eb1-05d4-4a4a-9ebf-de42e4c96bbd"
      },
      "execution_count": 17,
      "outputs": [
        {
          "output_type": "stream",
          "name": "stdout",
          "text": [
            "+------------------+------------------+\n",
            "|         threshold|         precision|\n",
            "+------------------+------------------+\n",
            "|0.8687250425167268|               1.0|\n",
            "|0.8678368087907256|               1.0|\n",
            "| 0.866020437205675|               1.0|\n",
            "|0.8566200353754436|               1.0|\n",
            "|0.8527087664776976|0.8571428571428571|\n",
            "| 0.851703859873189|             0.875|\n",
            "|0.8513824008857376|0.8888888888888888|\n",
            "|0.8507202476363105|               0.9|\n",
            "|0.8497041654463837|0.9090909090909091|\n",
            "|0.8493791383329399|0.9166666666666666|\n",
            "|0.8476823285599637|0.8461538461538461|\n",
            "|0.8446217297054671|               0.8|\n",
            "|0.8435717703051641|            0.8125|\n",
            "|0.8427279013125774|0.8235294117647058|\n",
            "|0.8425441915289432|0.8333333333333334|\n",
            "|0.8404441224901129|0.7894736842105263|\n",
            "|0.8393713018775975|0.8095238095238095|\n",
            "|0.8390281623615576|0.8181818181818182|\n",
            "|0.8383214186248691|0.7916666666666666|\n",
            "|0.8368902767434918|0.7857142857142857|\n",
            "+------------------+------------------+\n",
            "only showing top 20 rows\n",
            "\n"
          ]
        }
      ]
    },
    {
      "cell_type": "code",
      "source": [
        "lr_summary.roc.show()"
      ],
      "metadata": {
        "colab": {
          "base_uri": "https://localhost:8080/"
        },
        "id": "W3dgODq7YyRL",
        "outputId": "720f33e0-1b6f-4278-aa0c-272276c1da27"
      },
      "execution_count": 18,
      "outputs": [
        {
          "output_type": "stream",
          "name": "stdout",
          "text": [
            "+--------------------+--------------------+\n",
            "|                 FPR|                 TPR|\n",
            "+--------------------+--------------------+\n",
            "|                 0.0|                 0.0|\n",
            "|                 0.0|2.501250625312656E-4|\n",
            "|                 0.0|5.002501250625312E-4|\n",
            "|                 0.0|0.001000500250125...|\n",
            "|                 0.0|0.001250625312656...|\n",
            "|2.562131693569049...|0.001500750375187...|\n",
            "|2.562131693569049...|0.001750875437718...|\n",
            "|2.562131693569049...|0.002001000500250125|\n",
            "|2.562131693569049...|0.002251125562781...|\n",
            "|2.562131693569049...|0.002501250625312...|\n",
            "|2.562131693569049...|0.002751375687843922|\n",
            "|5.124263387138099E-4|0.002751375687843922|\n",
            "|7.686395080707148E-4|0.003001500750375...|\n",
            "|7.686395080707148E-4|0.003251625812906...|\n",
            "|7.686395080707148E-4|0.003501750875437719|\n",
            "|7.686395080707148E-4|0.003751875937968...|\n",
            "|0.001024852677427...|0.003751875937968...|\n",
            "|0.001024852677427...|0.004252126063031516|\n",
            "|0.001024852677427...|0.004502251125562781|\n",
            "|0.001281065846784...|0.004752376188094047|\n",
            "+--------------------+--------------------+\n",
            "only showing top 20 rows\n",
            "\n"
          ]
        }
      ]
    },
    {
      "cell_type": "code",
      "source": [
        "lr_summary.recallByThreshold.show()"
      ],
      "metadata": {
        "colab": {
          "base_uri": "https://localhost:8080/"
        },
        "id": "XMunMkD9YyUC",
        "outputId": "f5990c99-92ec-4a26-d266-0f345312a786"
      },
      "execution_count": 19,
      "outputs": [
        {
          "output_type": "stream",
          "name": "stdout",
          "text": [
            "+------------------+--------------------+\n",
            "|         threshold|              recall|\n",
            "+------------------+--------------------+\n",
            "|0.8687250425167268|2.501250625312656E-4|\n",
            "|0.8678368087907256|5.002501250625312E-4|\n",
            "| 0.866020437205675|0.001000500250125...|\n",
            "|0.8566200353754436|0.001250625312656...|\n",
            "|0.8527087664776976|0.001500750375187...|\n",
            "| 0.851703859873189|0.001750875437718...|\n",
            "|0.8513824008857376|0.002001000500250125|\n",
            "|0.8507202476363105|0.002251125562781...|\n",
            "|0.8497041654463837|0.002501250625312...|\n",
            "|0.8493791383329399|0.002751375687843922|\n",
            "|0.8476823285599637|0.002751375687843922|\n",
            "|0.8446217297054671|0.003001500750375...|\n",
            "|0.8435717703051641|0.003251625812906...|\n",
            "|0.8427279013125774|0.003501750875437719|\n",
            "|0.8425441915289432|0.003751875937968...|\n",
            "|0.8404441224901129|0.003751875937968...|\n",
            "|0.8393713018775975|0.004252126063031516|\n",
            "|0.8390281623615576|0.004502251125562781|\n",
            "|0.8383214186248691|0.004752376188094047|\n",
            "|0.8368902767434918|0.005502751375687844|\n",
            "+------------------+--------------------+\n",
            "only showing top 20 rows\n",
            "\n"
          ]
        }
      ]
    },
    {
      "cell_type": "code",
      "source": [
        "lr_summary.pr.show()"
      ],
      "metadata": {
        "colab": {
          "base_uri": "https://localhost:8080/"
        },
        "id": "FF1YNtQaYyYo",
        "outputId": "4f226ce4-065b-48e2-c3c6-2532ea51c1df"
      },
      "execution_count": 20,
      "outputs": [
        {
          "output_type": "stream",
          "name": "stdout",
          "text": [
            "+--------------------+------------------+\n",
            "|              recall|         precision|\n",
            "+--------------------+------------------+\n",
            "|                 0.0|               1.0|\n",
            "|2.501250625312656E-4|               1.0|\n",
            "|5.002501250625312E-4|               1.0|\n",
            "|0.001000500250125...|               1.0|\n",
            "|0.001250625312656...|               1.0|\n",
            "|0.001500750375187...|0.8571428571428571|\n",
            "|0.001750875437718...|             0.875|\n",
            "|0.002001000500250125|0.8888888888888888|\n",
            "|0.002251125562781...|               0.9|\n",
            "|0.002501250625312...|0.9090909090909091|\n",
            "|0.002751375687843922|0.9166666666666666|\n",
            "|0.002751375687843922|0.8461538461538461|\n",
            "|0.003001500750375...|               0.8|\n",
            "|0.003251625812906...|            0.8125|\n",
            "|0.003501750875437719|0.8235294117647058|\n",
            "|0.003751875937968...|0.8333333333333334|\n",
            "|0.003751875937968...|0.7894736842105263|\n",
            "|0.004252126063031516|0.8095238095238095|\n",
            "|0.004502251125562781|0.8181818181818182|\n",
            "|0.004752376188094047|0.7916666666666666|\n",
            "+--------------------+------------------+\n",
            "only showing top 20 rows\n",
            "\n"
          ]
        }
      ]
    },
    {
      "cell_type": "code",
      "source": [
        "# Step 6: Evaluate Performance on Test Data\n",
        "model_predictions = lr_model.transform(test)\n",
        "model_predictions.columns"
      ],
      "metadata": {
        "colab": {
          "base_uri": "https://localhost:8080/"
        },
        "id": "upKQ9BkvZBgM",
        "outputId": "67f746d7-efc2-49f3-d722-52db6156129b"
      },
      "execution_count": 21,
      "outputs": [
        {
          "output_type": "execute_result",
          "data": {
            "text/plain": [
              "['features', 'label', 'rawPrediction', 'probability', 'prediction']"
            ]
          },
          "metadata": {},
          "execution_count": 21
        }
      ]
    },
    {
      "cell_type": "code",
      "source": [
        "model_predictions.select(['label', 'probability', 'prediction']).show(10, False)"
      ],
      "metadata": {
        "colab": {
          "base_uri": "https://localhost:8080/"
        },
        "id": "xyPWopX8ZQo2",
        "outputId": "f1442361-d933-4f84-b93b-dfbf8859d483"
      },
      "execution_count": 22,
      "outputs": [
        {
          "output_type": "stream",
          "name": "stdout",
          "text": [
            "+-----+----------------------------------------+----------+\n",
            "|label|probability                             |prediction|\n",
            "+-----+----------------------------------------+----------+\n",
            "|1    |[0.5038700430854873,0.49612995691451267]|0.0       |\n",
            "|0    |[0.4881273558769128,0.5118726441230872] |1.0       |\n",
            "|1    |[0.4881273558769128,0.5118726441230872] |1.0       |\n",
            "|1    |[0.48419414262850874,0.5158058573714912]|1.0       |\n",
            "|1    |[0.48026288651646115,0.5197371134835389]|1.0       |\n",
            "|1    |[0.4763340729553839,0.5236659270446161] |1.0       |\n",
            "|1    |[0.4763340729553839,0.5236659270446161] |1.0       |\n",
            "|0    |[0.46848570886635427,0.5315142911336457]|1.0       |\n",
            "|1    |[0.4645671221769144,0.5354328778230856] |1.0       |\n",
            "|1    |[0.4645671221769144,0.5354328778230856] |1.0       |\n",
            "+-----+----------------------------------------+----------+\n",
            "only showing top 10 rows\n",
            "\n"
          ]
        }
      ]
    },
    {
      "cell_type": "code",
      "source": [
        "# The prediction column shows the model prediction for each of the records in the test data. The probability column shows the values for both classes (0 & 1).\n",
        "# The probability at 0th index is of 0; the other is for a prediction of 1. The evaluation of the logistic regression model on test data can be done using BinaryClassEvaluator.\n",
        "# We can get the area under ROC and that under the PR curve\n",
        "\n",
        "from pyspark.ml.evaluation import BinaryClassificationEvaluator\n",
        "lr_evaluator = BinaryClassificationEvaluator(metricName = 'areaUnderROC')\n",
        "lr_auroc = lr_evaluator.evaluate(model_predictions)\n",
        "print(f'The auroc value of Logistic Regression Model is {lr_auroc}')"
      ],
      "metadata": {
        "colab": {
          "base_uri": "https://localhost:8080/"
        },
        "id": "tJxD2slyZQrr",
        "outputId": "b827d294-3443-4492-b8ab-5f822f1e2f6e"
      },
      "execution_count": 23,
      "outputs": [
        {
          "output_type": "stream",
          "name": "stdout",
          "text": [
            "The auroc value of Logistic Regression Model is 0.7279289462373956\n"
          ]
        }
      ]
    },
    {
      "cell_type": "code",
      "source": [
        "lr_evaluator = BinaryClassificationEvaluator(metricName='areaUnderPR')\n",
        "lr_aupr = lr_evaluator.evaluate(model_predictions)\n",
        "print(f'The aupr value of Logistic Regression Model is {lr_aupr}')"
      ],
      "metadata": {
        "colab": {
          "base_uri": "https://localhost:8080/"
        },
        "id": "w0WxvAMsZQvL",
        "outputId": "1032c165-ccfe-4a4e-bf49-ca49827d180f"
      },
      "execution_count": 24,
      "outputs": [
        {
          "output_type": "stream",
          "name": "stdout",
          "text": [
            "The aupr value of Logistic Regression Model is 0.7122810224807343\n"
          ]
        }
      ]
    },
    {
      "cell_type": "code",
      "source": [
        "true_pos = model_predictions.filter(model_predictions['label']==1).filter(model_predictions['prediction']==1).count()"
      ],
      "metadata": {
        "id": "9blgbtYrasRm"
      },
      "execution_count": 25,
      "outputs": []
    },
    {
      "cell_type": "code",
      "source": [
        "actual_pos = model_predictions.filter(model_predictions['label']==1).count()\n",
        "pred_pos = model_predictions.filter(model_predictions['prediction']==1).count()\n",
        "# print(pred_pos)\n",
        "#Recall\n",
        "float(true_pos)/(actual_pos)"
      ],
      "metadata": {
        "colab": {
          "base_uri": "https://localhost:8080/"
        },
        "id": "tueLcNkIasVM",
        "outputId": "f3ce41fb-9fa6-4109-ee51-61136ef7b01c"
      },
      "execution_count": 26,
      "outputs": [
        {
          "output_type": "execute_result",
          "data": {
            "text/plain": [
              "0.6622773044151821"
            ]
          },
          "metadata": {},
          "execution_count": 26
        }
      ]
    },
    {
      "cell_type": "code",
      "source": [
        "# Precision\n",
        "float(true_pos)/(pred_pos)"
      ],
      "metadata": {
        "colab": {
          "base_uri": "https://localhost:8080/"
        },
        "id": "7o2GVGQkasYc",
        "outputId": "0213ff71-7065-4d00-debe-48da2f2d0620"
      },
      "execution_count": 27,
      "outputs": [
        {
          "output_type": "execute_result",
          "data": {
            "text/plain": [
              "0.6956875508543532"
            ]
          },
          "metadata": {},
          "execution_count": 27
        }
      ]
    },
    {
      "cell_type": "markdown",
      "source": [
        "# Decision Tree Classifier\n",
        "DT can be used for classification as well as regression.\n",
        "We are building a DT with default hyperparameters and use it to predict whether the use will opt for the new term deposit plan.\n",
        "\n"
      ],
      "metadata": {
        "id": "VH9W5fL9V48o"
      }
    },
    {
      "cell_type": "code",
      "source": [
        "from pyspark.ml.classification import DecisionTreeClassifier\n",
        "dt = DecisionTreeClassifier()\n",
        "dt_model = dt.fit(train)\n",
        "model_predictions = dt_model.transform(test)"
      ],
      "metadata": {
        "id": "i5W_Z8CePzRS"
      },
      "execution_count": 28,
      "outputs": []
    },
    {
      "cell_type": "code",
      "source": [
        "model_predictions.select(['label','probability', 'prediction']).show(10,False)"
      ],
      "metadata": {
        "colab": {
          "base_uri": "https://localhost:8080/"
        },
        "id": "5G7-y7XFPzn8",
        "outputId": "90a9de64-fdd3-47ff-f003-f17f96a92cc6"
      },
      "execution_count": 29,
      "outputs": [
        {
          "output_type": "stream",
          "name": "stdout",
          "text": [
            "+-----+----------------------------------------+----------+\n",
            "|label|probability                             |prediction|\n",
            "+-----+----------------------------------------+----------+\n",
            "|1    |[0.1912568306010929,0.8087431693989071] |1.0       |\n",
            "|0    |[0.1912568306010929,0.8087431693989071] |1.0       |\n",
            "|1    |[0.1912568306010929,0.8087431693989071] |1.0       |\n",
            "|1    |[0.40208667736757625,0.5979133226324238]|1.0       |\n",
            "|1    |[0.40208667736757625,0.5979133226324238]|1.0       |\n",
            "|1    |[0.40208667736757625,0.5979133226324238]|1.0       |\n",
            "|1    |[0.40208667736757625,0.5979133226324238]|1.0       |\n",
            "|0    |[0.40208667736757625,0.5979133226324238]|1.0       |\n",
            "|1    |[0.40208667736757625,0.5979133226324238]|1.0       |\n",
            "|1    |[0.40208667736757625,0.5979133226324238]|1.0       |\n",
            "+-----+----------------------------------------+----------+\n",
            "only showing top 10 rows\n",
            "\n"
          ]
        }
      ]
    },
    {
      "cell_type": "code",
      "source": [
        "# Evaluate Performance on Test Data\n",
        "dt_evaluator = BinaryClassificationEvaluator(metricName='areaUnderROC')\n",
        "dt_auroc = dt_evaluator.evaluate(model_predictions)\n",
        "print(f'The auc value of Decision Tree Classifier Model is {dt_auroc}')"
      ],
      "metadata": {
        "colab": {
          "base_uri": "https://localhost:8080/"
        },
        "id": "Y3mMjPtrQDFm",
        "outputId": "db040dd4-deee-4885-ce66-a68c65cc836d"
      },
      "execution_count": 30,
      "outputs": [
        {
          "output_type": "stream",
          "name": "stdout",
          "text": [
            "The auc value of Decision Tree Classifier Model is 0.5596008901752911\n"
          ]
        }
      ]
    },
    {
      "cell_type": "code",
      "source": [
        "dt_evaluator = BinaryClassificationEvaluator(metricName='areaUnderPR')\n",
        "dt_aupr = dt_evaluator.evaluate(model_predictions)\n",
        "print(f'The aupr value of Decision Tree Model is {dt_aupr}')"
      ],
      "metadata": {
        "colab": {
          "base_uri": "https://localhost:8080/"
        },
        "id": "nO1TFpISQDIh",
        "outputId": "97a3f69f-2fea-4ded-d2c0-9039a9a1a68b"
      },
      "execution_count": 31,
      "outputs": [
        {
          "output_type": "stream",
          "name": "stdout",
          "text": [
            "The aupr value of Decision Tree Model is 0.6119662227113352\n"
          ]
        }
      ]
    },
    {
      "cell_type": "code",
      "source": [
        "true_pos=model_predictions.filter(model_predictions['label']==1).filter(model_predictions['prediction']==1).count()\n",
        "actual_pos=model_predictions.filter(model_predictions['label']==1).count()\n",
        "pred_pos=model_predictions.filter(model_predictions['prediction']==1).count()\n",
        "float(true_pos)/(actual_pos)"
      ],
      "metadata": {
        "colab": {
          "base_uri": "https://localhost:8080/"
        },
        "id": "Y2ubhPy6QDLo",
        "outputId": "87378120-f9fd-454f-8016-c48709e3b0d8"
      },
      "execution_count": 32,
      "outputs": [
        {
          "output_type": "execute_result",
          "data": {
            "text/plain": [
              "0.627420604182804"
            ]
          },
          "metadata": {},
          "execution_count": 32
        }
      ]
    },
    {
      "cell_type": "code",
      "source": [
        "float(true_pos)/(pred_pos)"
      ],
      "metadata": {
        "colab": {
          "base_uri": "https://localhost:8080/"
        },
        "id": "85WeuWVEQDOW",
        "outputId": "d6e83a61-fffe-4f2a-f96e-a8bd7a93fa31"
      },
      "execution_count": 33,
      "outputs": [
        {
          "output_type": "execute_result",
          "data": {
            "text/plain": [
              "0.7212822796081924"
            ]
          },
          "metadata": {},
          "execution_count": 33
        }
      ]
    },
    {
      "cell_type": "markdown",
      "source": [
        "# Support Vector Machines Classifiers"
      ],
      "metadata": {
        "id": "mPdg9In9W8Tc"
      }
    },
    {
      "cell_type": "code",
      "source": [
        "# SVMs are used for classification tasks, as they find the hyperplane that maximizes the margin (perpendicular distance) between 2 classes.\n",
        "# All the instances and target classes are represented as vectors in high-dimensional space, and the SVM finds the closest 2 points from the 2 classes that support the best separating line or hyperplane\n",
        "# For nonlinearly separable data, there are different kernel tricks to separate the classes. In our example, we will build a linearly separable support vector classifier with default hyperparameters.\n",
        "\n",
        "# Step 1: Build and train SVM Model\n",
        "from pyspark.ml.classification import LinearSVC\n",
        "lsvc = LinearSVC()\n",
        "lsvc_model = lsvc.fit(train)\n",
        "model_predictions = lsvc_model.transform(test)\n",
        "model_predictions.columns"
      ],
      "metadata": {
        "colab": {
          "base_uri": "https://localhost:8080/"
        },
        "id": "LLjusGeAQZF_",
        "outputId": "00047aaa-71ea-4d4e-cf2c-a89df80a77c4"
      },
      "execution_count": 34,
      "outputs": [
        {
          "output_type": "execute_result",
          "data": {
            "text/plain": [
              "['features', 'label', 'rawPrediction', 'prediction']"
            ]
          },
          "metadata": {},
          "execution_count": 34
        }
      ]
    },
    {
      "cell_type": "code",
      "source": [
        "model_predictions.select(['label','prediction']).show(10,False)"
      ],
      "metadata": {
        "colab": {
          "base_uri": "https://localhost:8080/"
        },
        "id": "wBefl_3EQrPa",
        "outputId": "6d6196e0-b005-4e75-9c34-b72b9d732f7d"
      },
      "execution_count": 35,
      "outputs": [
        {
          "output_type": "stream",
          "name": "stdout",
          "text": [
            "+-----+----------+\n",
            "|label|prediction|\n",
            "+-----+----------+\n",
            "|1    |1.0       |\n",
            "|0    |1.0       |\n",
            "|1    |1.0       |\n",
            "|1    |1.0       |\n",
            "|1    |1.0       |\n",
            "|1    |1.0       |\n",
            "|1    |1.0       |\n",
            "|0    |1.0       |\n",
            "|1    |1.0       |\n",
            "|1    |1.0       |\n",
            "+-----+----------+\n",
            "only showing top 10 rows\n",
            "\n"
          ]
        }
      ]
    },
    {
      "cell_type": "code",
      "source": [
        "# Step 2: Evaluate performance on Test Data\n",
        "svc_evaluator = BinaryClassificationEvaluator(metricName='areaUnderROC')\n",
        "svc_auroc = svc_evaluator.evaluate(model_predictions)\n",
        "print(f'The auc value of SupportVectorClassifier is {svc_auroc}')"
      ],
      "metadata": {
        "colab": {
          "base_uri": "https://localhost:8080/"
        },
        "id": "9I_4x-ZSQrSK",
        "outputId": "200dacd2-758d-470a-ae0d-a74d89cb5081"
      },
      "execution_count": 36,
      "outputs": [
        {
          "output_type": "stream",
          "name": "stdout",
          "text": [
            "The auc value of SupportVectorClassifier is 0.6911995027062203\n"
          ]
        }
      ]
    },
    {
      "cell_type": "code",
      "source": [
        "svc_evaluator = BinaryClassificationEvaluator(metricName='areaUnderPR')\n",
        "svc_aupr =svc_evaluator.evaluate(model_predictions)\n",
        "print(f'The aupr value of SupportVectorClassifier Model is {svc_aupr}')"
      ],
      "metadata": {
        "colab": {
          "base_uri": "https://localhost:8080/"
        },
        "id": "0hMXwLlVQrVJ",
        "outputId": "eae46271-12a8-4340-8b8a-1d5fc6313ece"
      },
      "execution_count": 37,
      "outputs": [
        {
          "output_type": "stream",
          "name": "stdout",
          "text": [
            "The aupr value of SupportVectorClassifier Model is 0.6747712879457272\n"
          ]
        }
      ]
    },
    {
      "cell_type": "code",
      "source": [
        "true_pos=model_predictions.filter(model_predictions['label']==1).filter(model_predictions['prediction']==1).count()\n",
        "actual_pos=model_predictions.filter(model_predictions['label']==1).count()\n",
        "pred_pos=model_predictions.filter(model_predictions['prediction']==1).count()\n",
        "float(true_pos)/(actual_pos)"
      ],
      "metadata": {
        "colab": {
          "base_uri": "https://localhost:8080/"
        },
        "id": "ei7W2UgsSHQq",
        "outputId": "b88f6c54-e427-49c4-d095-5362bbf88e6a"
      },
      "execution_count": 38,
      "outputs": [
        {
          "output_type": "execute_result",
          "data": {
            "text/plain": [
              "0.6491092176607282"
            ]
          },
          "metadata": {},
          "execution_count": 38
        }
      ]
    },
    {
      "cell_type": "code",
      "source": [
        "float(true_pos)/(pred_pos)"
      ],
      "metadata": {
        "colab": {
          "base_uri": "https://localhost:8080/"
        },
        "id": "6BeTF7Y8SHTU",
        "outputId": "f2d92a06-bc02-4d41-c680-e0f5ba65d210"
      },
      "execution_count": 39,
      "outputs": [
        {
          "output_type": "execute_result",
          "data": {
            "text/plain": [
              "0.7053872053872053"
            ]
          },
          "metadata": {},
          "execution_count": 39
        }
      ]
    },
    {
      "cell_type": "code",
      "source": [],
      "metadata": {
        "id": "hC-jiJ-ASHXt"
      },
      "execution_count": null,
      "outputs": []
    },
    {
      "cell_type": "markdown",
      "source": [
        "# Naive Bayes (NB)\n",
        "classifiers work on the principle of conditional probability and assume absolute independence between predictors.\n",
        "An NB classifier doesn't have many hyperparameters and can outperform some of the most sophisticated algorithms out there.\n",
        "We will build an NB classifier and evaluate its performance on the test data."
      ],
      "metadata": {
        "id": "rCYmqY-DX327"
      }
    },
    {
      "cell_type": "code",
      "source": [
        "from pyspark.ml.classification import NaiveBayes\n",
        "nb = NaiveBayes()\n",
        "nb_model = nb.fit(train)\n",
        "model_predictions = nb_model.transform(test)\n",
        "model_predictions.select(['label','probability', 'prediction']).show(10,False)"
      ],
      "metadata": {
        "colab": {
          "base_uri": "https://localhost:8080/"
        },
        "id": "9SFzZTqXTr00",
        "outputId": "bc0c04f6-4114-43d7-822d-72d9aae75fe1"
      },
      "execution_count": 40,
      "outputs": [
        {
          "output_type": "stream",
          "name": "stdout",
          "text": [
            "+-----+----------------------------------------+----------+\n",
            "|label|probability                             |prediction|\n",
            "+-----+----------------------------------------+----------+\n",
            "|1    |[0.5274075345725382,0.4725924654274618] |0.0       |\n",
            "|0    |[0.5154264060557162,0.48457359394428373]|0.0       |\n",
            "|1    |[0.5154264060557162,0.48457359394428373]|0.0       |\n",
            "|1    |[0.5124278106404231,0.4875721893595768] |0.0       |\n",
            "|1    |[0.5094283204408921,0.49057167955910785]|0.0       |\n",
            "|1    |[0.5064281512379302,0.49357184876207]   |0.0       |\n",
            "|1    |[0.5064281512379302,0.49357184876207]   |0.0       |\n",
            "|0    |[0.5004266398605586,0.49957336013944137]|0.0       |\n",
            "|1    |[0.497425729976803,0.502574270023197]   |1.0       |\n",
            "|1    |[0.497425729976803,0.502574270023197]   |1.0       |\n",
            "+-----+----------------------------------------+----------+\n",
            "only showing top 10 rows\n",
            "\n"
          ]
        }
      ]
    },
    {
      "cell_type": "code",
      "source": [
        "# Evaluate Performance on Test Data\n",
        "nb_evaluator = BinaryClassificationEvaluator(metricName='areaUnderROC')\n",
        "nb_auroc = nb_evaluator.evaluate(model_predictions)\n",
        "print(f'The auc value of NB Classifier is {nb_auroc}')"
      ],
      "metadata": {
        "colab": {
          "base_uri": "https://localhost:8080/"
        },
        "id": "fsXMfFnqTr3b",
        "outputId": "91307c04-b16e-452a-bb74-2b2f830b406a"
      },
      "execution_count": 41,
      "outputs": [
        {
          "output_type": "stream",
          "name": "stdout",
          "text": [
            "The auc value of NB Classifier is 0.6518500397009442\n"
          ]
        }
      ]
    },
    {
      "cell_type": "code",
      "source": [
        "nb_evaluator = BinaryClassificationEvaluator(metricName='areaUnderPR')\n",
        "nb_aupr =nb_evaluator.evaluate(model_predictions)\n",
        "print(f'The aupr value of NB Classifier Model is {nb_aupr}')"
      ],
      "metadata": {
        "colab": {
          "base_uri": "https://localhost:8080/"
        },
        "id": "5g2MtJeGSHb9",
        "outputId": "e16465db-ba54-42e9-bbe7-c849670d430a"
      },
      "execution_count": 42,
      "outputs": [
        {
          "output_type": "stream",
          "name": "stdout",
          "text": [
            "The aupr value of NB Classifier Model is 0.6088168824007848\n"
          ]
        }
      ]
    },
    {
      "cell_type": "code",
      "source": [
        "true_pos=model_predictions.filter(model_predictions['label']==1).filter(model_predictions['prediction']==1).count()\n",
        "actual_pos=model_predictions.filter(model_predictions['label']==1).count()\n",
        "pred_pos=model_predictions.filter(model_predictions['prediction']==1).count()"
      ],
      "metadata": {
        "id": "AYjwEzGTU4_d"
      },
      "execution_count": 43,
      "outputs": []
    },
    {
      "cell_type": "code",
      "source": [
        "float(true_pos)/(actual_pos)"
      ],
      "metadata": {
        "colab": {
          "base_uri": "https://localhost:8080/"
        },
        "id": "e54BHg_6U5CZ",
        "outputId": "ba98c334-5260-49e3-a422-8b26bd5c6f8e"
      },
      "execution_count": 44,
      "outputs": [
        {
          "output_type": "execute_result",
          "data": {
            "text/plain": [
              "0.691711851278079"
            ]
          },
          "metadata": {},
          "execution_count": 44
        }
      ]
    },
    {
      "cell_type": "code",
      "source": [
        "float(true_pos)/(pred_pos)"
      ],
      "metadata": {
        "colab": {
          "base_uri": "https://localhost:8080/"
        },
        "id": "ZQXuNT0UU5E4",
        "outputId": "38264ddb-109f-401e-8d59-5e15a465945e"
      },
      "execution_count": 45,
      "outputs": [
        {
          "output_type": "execute_result",
          "data": {
            "text/plain": [
              "0.6532553035844916"
            ]
          },
          "metadata": {},
          "execution_count": 45
        }
      ]
    },
    {
      "cell_type": "markdown",
      "source": [
        "GRADIENT BOOSTED TREE CLASSIFIER"
      ],
      "metadata": {
        "id": "mbdl-9SsEiVX"
      }
    },
    {
      "cell_type": "code",
      "source": [
        "# So far, we have used single algorithms for classification. Now we move on to use ensemble methods, such as GBT and random forests, for classification.\n",
        "# Bagging and boosting for classification works according to similar principles as regression.\n",
        "# Build and Train the GBT Model\n",
        "from pyspark.ml.classification import GBTClassifier\n",
        "gbt = GBTClassifier()\n",
        "gbt_model = gbt.fit(train)\n",
        "model_predictions = gbt_model.transform(test)\n",
        "model_predictions.select(['label','probability','prediction']).show(10,False)"
      ],
      "metadata": {
        "colab": {
          "base_uri": "https://localhost:8080/"
        },
        "id": "rPqzzUTaVbfC",
        "outputId": "4e42f859-3f7a-458e-c3a9-d44cc212c647"
      },
      "execution_count": 46,
      "outputs": [
        {
          "output_type": "stream",
          "name": "stdout",
          "text": [
            "+-----+----------------------------------------+----------+\n",
            "|label|probability                             |prediction|\n",
            "+-----+----------------------------------------+----------+\n",
            "|1    |[0.18604586314784055,0.8139541368521594]|1.0       |\n",
            "|0    |[0.418478264770028,0.581521735229972]   |1.0       |\n",
            "|1    |[0.418478264770028,0.581521735229972]   |1.0       |\n",
            "|1    |[0.4611895047763267,0.5388104952236733] |1.0       |\n",
            "|1    |[0.4611895047763267,0.5388104952236733] |1.0       |\n",
            "|1    |[0.4585978286203409,0.5414021713796591] |1.0       |\n",
            "|1    |[0.4585978286203409,0.5414021713796591] |1.0       |\n",
            "|0    |[0.49489768625908065,0.5051023137409194]|1.0       |\n",
            "|1    |[0.5172297703699451,0.4827702296300549] |0.0       |\n",
            "|1    |[0.5172297703699451,0.4827702296300549] |0.0       |\n",
            "+-----+----------------------------------------+----------+\n",
            "only showing top 10 rows\n",
            "\n"
          ]
        }
      ]
    },
    {
      "cell_type": "code",
      "source": [
        "# Evaluate Performance on Test Data\n",
        "gbt_evaluator = BinaryClassificationEvaluator(metricName='areaUnderROC')\n",
        "gbt_auroc = gbt_evaluator.evaluate(model_predictions)\n",
        "print(f'The auc value of GradientBoostedTreesClassifier is {gbt_auroc}')"
      ],
      "metadata": {
        "colab": {
          "base_uri": "https://localhost:8080/"
        },
        "id": "Jx9rqTUXVbhs",
        "outputId": "c339795c-dd36-4039-dc68-63d6cffb20d3"
      },
      "execution_count": 47,
      "outputs": [
        {
          "output_type": "stream",
          "name": "stdout",
          "text": [
            "The auc value of GradientBoostedTreesClassifier is 0.736129558627489\n"
          ]
        }
      ]
    },
    {
      "cell_type": "code",
      "source": [
        "gbt_evaluator = BinaryClassificationEvaluator(metricName='areaUnderPR')\n",
        "gbt_aupr = gbt_evaluator.evaluate(model_predictions)\n",
        "print(f'The aupr value of GradientBoostedTreesClassifier Model is {gbt_aupr}')"
      ],
      "metadata": {
        "colab": {
          "base_uri": "https://localhost:8080/"
        },
        "id": "BMWghPJoVbjg",
        "outputId": "732172db-e966-40a6-c34b-a7b54484692a"
      },
      "execution_count": 48,
      "outputs": [
        {
          "output_type": "stream",
          "name": "stdout",
          "text": [
            "The aupr value of GradientBoostedTreesClassifier Model is 0.7302461815267897\n"
          ]
        }
      ]
    },
    {
      "cell_type": "code",
      "source": [
        "true_pos=model_predictions.filter(model_predictions['label']==1).filter(model_predictions['prediction']==1).count()\n",
        "actual_pos=model_predictions.filter(model_predictions['label']==1).count()\n",
        "pred_pos=model_predictions.filter(model_predictions['prediction']==1).count()"
      ],
      "metadata": {
        "id": "dedhamO0VbmW"
      },
      "execution_count": 49,
      "outputs": []
    },
    {
      "cell_type": "code",
      "source": [
        "float(true_pos)/(actual_pos)"
      ],
      "metadata": {
        "colab": {
          "base_uri": "https://localhost:8080/"
        },
        "id": "myyVqeAnVbpW",
        "outputId": "fdeef104-0844-437b-b4d6-b9dd826b20fa"
      },
      "execution_count": 50,
      "outputs": [
        {
          "output_type": "execute_result",
          "data": {
            "text/plain": [
              "0.6297443841982959"
            ]
          },
          "metadata": {},
          "execution_count": 50
        }
      ]
    },
    {
      "cell_type": "code",
      "source": [
        "float(true_pos)/(pred_pos)"
      ],
      "metadata": {
        "colab": {
          "base_uri": "https://localhost:8080/"
        },
        "id": "hW70hHOMWOKc",
        "outputId": "38c4efcc-64cb-4815-b827-77a9b9f045f2"
      },
      "execution_count": 51,
      "outputs": [
        {
          "output_type": "execute_result",
          "data": {
            "text/plain": [
              "0.7252453166815344"
            ]
          },
          "metadata": {},
          "execution_count": 51
        }
      ]
    },
    {
      "cell_type": "markdown",
      "source": [
        "RANDOM FOREST CLASSIFIER"
      ],
      "metadata": {
        "id": "U2VGpUDQE7uN"
      }
    },
    {
      "cell_type": "code",
      "source": [
        "# A random forest classifier is a collection of multiple decision tree classifiers. It works on the voting mechanism and predicts the output class that received the maximum votes\n",
        "# from all individual decision trees. Let's build a random forest classifier with the same data.\n",
        "# Build and Train the RF Model\n",
        "from pyspark.ml.classification import RandomForestClassifier\n",
        "rf = RandomForestClassifier(numTrees=50,maxDepth=30)\n",
        "rf_model = rf.fit(train)\n",
        "model_predictions=rf_model.transform(test)\n",
        "model_predictions.select(['label','probability','prediction']).show(10,False)"
      ],
      "metadata": {
        "colab": {
          "base_uri": "https://localhost:8080/"
        },
        "id": "afWHgNTHWTNW",
        "outputId": "76f65b57-532c-4255-b5ff-d34f3f508d03"
      },
      "execution_count": 52,
      "outputs": [
        {
          "output_type": "stream",
          "name": "stdout",
          "text": [
            "+-----+----------------------------------------+----------+\n",
            "|label|probability                             |prediction|\n",
            "+-----+----------------------------------------+----------+\n",
            "|1    |[0.29921126525714165,0.7007887347428584]|1.0       |\n",
            "|0    |[0.37556289232739,0.62443710767261]     |1.0       |\n",
            "|1    |[0.37556289232739,0.62443710767261]     |1.0       |\n",
            "|1    |[0.49054549329879504,0.509454506701205] |1.0       |\n",
            "|1    |[0.5097428210123173,0.4902571789876826] |0.0       |\n",
            "|1    |[0.5097428210123173,0.4902571789876826] |0.0       |\n",
            "|1    |[0.5097428210123173,0.4902571789876826] |0.0       |\n",
            "|0    |[0.5120652754639928,0.48793472453600706]|0.0       |\n",
            "|1    |[0.5186683516408506,0.4813316483591494] |0.0       |\n",
            "|1    |[0.5186683516408506,0.4813316483591494] |0.0       |\n",
            "+-----+----------------------------------------+----------+\n",
            "only showing top 10 rows\n",
            "\n"
          ]
        }
      ]
    },
    {
      "cell_type": "code",
      "source": [
        "# Evaluate Performance on Test Data\n",
        "rf_evaluator = BinaryClassificationEvaluator(metricName='areaUnderROC')\n",
        "rf_auroc = rf_evaluator.evaluate(model_predictions)\n",
        "print(f'The auc value of RandomForestClassifier Model is {rf_auroc}')"
      ],
      "metadata": {
        "colab": {
          "base_uri": "https://localhost:8080/"
        },
        "id": "zIkUT5oaWT28",
        "outputId": "ce894234-9618-4435-c580-19fb33caf8a8"
      },
      "execution_count": 53,
      "outputs": [
        {
          "output_type": "stream",
          "name": "stdout",
          "text": [
            "The auc value of RandomForestClassifier Model is 0.7359085931296735\n"
          ]
        }
      ]
    },
    {
      "cell_type": "code",
      "source": [
        "rf_evaluator = BinaryClassificationEvaluator(metricName='areaUnderPR')"
      ],
      "metadata": {
        "id": "cqw4XT8lWT50"
      },
      "execution_count": 54,
      "outputs": []
    },
    {
      "cell_type": "code",
      "source": [
        "rf_aupr = rf_evaluator.evaluate(model_predictions)"
      ],
      "metadata": {
        "id": "VsV8mu8LWOVP"
      },
      "execution_count": 55,
      "outputs": []
    },
    {
      "cell_type": "code",
      "source": [
        "print(f'The aupr value of RandomForestClassifier Model is {rf_aupr}')"
      ],
      "metadata": {
        "colab": {
          "base_uri": "https://localhost:8080/"
        },
        "id": "4WdGzXleW2vN",
        "outputId": "e121f771-272d-41bb-9a59-ad81c23f07b6"
      },
      "execution_count": 56,
      "outputs": [
        {
          "output_type": "stream",
          "name": "stdout",
          "text": [
            "The aupr value of RandomForestClassifier Model is 0.7347958358890551\n"
          ]
        }
      ]
    },
    {
      "cell_type": "code",
      "source": [
        "true_pos=model_predictions.filter(model_predictions['label']==1).filter(model_predictions['prediction']==1).count()\n",
        "actual_pos=model_predictions.filter(model_predictions['label']==1).count()\n",
        "pred_pos=model_predictions.filter(model_predictions['prediction']==1).count()"
      ],
      "metadata": {
        "id": "3h4uS2nfW2yO"
      },
      "execution_count": 57,
      "outputs": []
    },
    {
      "cell_type": "code",
      "source": [
        "float(true_pos)/(actual_pos)"
      ],
      "metadata": {
        "colab": {
          "base_uri": "https://localhost:8080/"
        },
        "id": "mEoIpB3IW200",
        "outputId": "3062e29e-9f14-4fd8-8cb3-08abfc6b346e"
      },
      "execution_count": 58,
      "outputs": [
        {
          "output_type": "execute_result",
          "data": {
            "text/plain": [
              "0.6227730441518203"
            ]
          },
          "metadata": {},
          "execution_count": 58
        }
      ]
    },
    {
      "cell_type": "code",
      "source": [
        "float(true_pos)/(pred_pos)"
      ],
      "metadata": {
        "colab": {
          "base_uri": "https://localhost:8080/"
        },
        "id": "Ws2NBvpjXEQl",
        "outputId": "11f24372-48b0-4614-f3cb-55cc9b4e4893"
      },
      "execution_count": 59,
      "outputs": [
        {
          "output_type": "execute_result",
          "data": {
            "text/plain": [
              "0.7236723672367237"
            ]
          },
          "metadata": {},
          "execution_count": 59
        }
      ]
    },
    {
      "cell_type": "markdown",
      "source": [
        "# We have used default hyperparameters for all the models but will rarely perform to their best. Therefore, we must tune them for the right combination of hyperparameters."
      ],
      "metadata": {
        "id": "bcT6LTzvY2yk"
      }
    },
    {
      "cell_type": "markdown",
      "source": [
        "Hyperparameter Tuning and Cross-Validation by considering the RF model that was just built."
      ],
      "metadata": {
        "id": "j7LxRig_FakJ"
      }
    },
    {
      "cell_type": "code",
      "source": [
        "from pyspark.ml.tuning import ParamGridBuilder, CrossValidator\n",
        "rf = RandomForestClassifier()\n",
        "paramGrid = (ParamGridBuilder()\n",
        "             .addGrid(rf.maxDepth, [5,10,20,25,30])\n",
        "             .addGrid(rf.maxBins, [20, 60])\n",
        "             .addGrid(rf.numTrees, [5, 20,50,100])\n",
        "             .build())\n",
        "cv = CrossValidator(estimator=rf, estimatorParamMaps=paramGrid, evaluator=rf_evaluator, numFolds=5)"
      ],
      "metadata": {
        "id": "ls5gQI48XQS3"
      },
      "execution_count": 63,
      "outputs": []
    },
    {
      "cell_type": "code",
      "source": [
        "cv_model = cv.fit(train)\n",
        "best_rf_model = cv_model.bestModel"
      ],
      "metadata": {
        "id": "5cBwij1KYmpj"
      },
      "execution_count": 64,
      "outputs": []
    },
    {
      "cell_type": "code",
      "source": [
        "model_predictions = best_rf_model.transform(test)\n",
        "rf_evaluator = BinaryClassificationEvaluator(metricName='areaUnderROC')\n",
        "rf_auroc = rf_evaluator.evaluate(model_predictions)\n",
        "print(rf_auroc)"
      ],
      "metadata": {
        "colab": {
          "base_uri": "https://localhost:8080/"
        },
        "id": "13OnFps3XQWF",
        "outputId": "eae56638-d604-4dce-fa70-d4451e289697"
      },
      "execution_count": 65,
      "outputs": [
        {
          "output_type": "stream",
          "name": "stdout",
          "text": [
            "0.7414239283780406\n"
          ]
        }
      ]
    },
    {
      "cell_type": "code",
      "source": [
        "# By using the best hyperparameters for our random forest model, the AUC score has increased from 0.7359 to 0.7414"
      ],
      "metadata": {
        "id": "rPGt2hKNXpEl"
      },
      "execution_count": null,
      "outputs": []
    },
    {
      "cell_type": "markdown",
      "source": [
        "Different types of supervised learning have been experimented and ways to solve binary classification with multiple ML algorithms. Hyperparamters and cross-validation techniques to build the best possble model."
      ],
      "metadata": {
        "id": "WvHqqYwtiSbH"
      }
    },
    {
      "cell_type": "code",
      "source": [],
      "metadata": {
        "id": "2nelU4vSXpLf"
      },
      "execution_count": null,
      "outputs": []
    }
  ]
}